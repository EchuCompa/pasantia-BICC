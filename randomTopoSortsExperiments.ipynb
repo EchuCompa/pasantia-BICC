{
 "cells": [
  {
   "cell_type": "markdown",
   "metadata": {},
   "source": [
    "##### Imports"
   ]
  },
  {
   "cell_type": "code",
   "execution_count": 1,
   "metadata": {},
   "outputs": [],
   "source": [
    "totalRuns = 0"
   ]
  },
  {
   "cell_type": "markdown",
   "metadata": {},
   "source": [
    "##### Experimenting with random topo sort generation"
   ]
  },
  {
   "cell_type": "code",
   "execution_count": 4,
   "metadata": {},
   "outputs": [
    {
     "name": "stdout",
     "output_type": "stream",
     "text": [
      "It will take 7.2576 time\n",
      "Random TopoSorts: 3.5252361545003623\n",
      "Exact TopoSorts: 5.299999884300632e-06\n"
     ]
    }
   ],
   "source": [
    "from asvFormula.topoSorts import *\n",
    "from asvFormula.digraph import *\n",
    "import timeit, itertools\n",
    "\n",
    "\n",
    "graph = balancedTree(2,9)\n",
    "nSamples = int(allPolyTopoSorts(graph))\n",
    "runs = 2\n",
    "totalRuns += runs\n",
    "print(f'It will take {nSamples/100000*runs} time')\n",
    "\n",
    "randomTopoSortsTimed = timeit.timeit(lambda: randomTopoSortsTime(graph, nSamples), number=runs)\n",
    "exactTopoSortsTime = timeit.timeit(lambda: itertools.islice(nx.all_topological_sorts(graph), nSamples), number=runs)\n",
    "\n",
    "print(f\"Random TopoSorts: {randomTopoSortsTimed/runs}\")\n",
    "print(f\"Exact TopoSorts: {exactTopoSortsTime/runs}\")"
   ]
  },
  {
   "cell_type": "code",
   "execution_count": 5,
   "metadata": {},
   "outputs": [
    {
     "name": "stdout",
     "output_type": "stream",
     "text": [
      "notVisitedNodes: 4.5299530029296875e-06,  Percentage: 0.0043680721513559995%\n",
      "isRootWithVisited: 1.537799835205078e-05,  Percentage: 0.014828455461182206%\n",
      "calculateTopoSortsForNode: 7.76052474975586e-05,  Percentage: 0.07483197290875672%\n",
      "obtainRandomStartNodes: 0.03905552625656128,  Percentage: 37.65985132461788%\n",
      "addingSourceNodesToTopos: 0.06455296277999878,  Percentage: 62.24612017486083%\n"
     ]
    }
   ],
   "source": [
    "global totalTime\n",
    "from asvFormula.topoSorts.randomTopoSortsGeneration import totalTime\n",
    "\n",
    "timeTaken = sum(totalTime.values())\n",
    "for code, time in totalTime.items():\n",
    "    print(f'{code}: {time/totalRuns},  Percentage: {time/timeTaken*100}%')\n",
    "\n"
   ]
  }
 ],
 "metadata": {
  "kernelspec": {
   "display_name": "Python 3",
   "language": "python",
   "name": "python3"
  },
  "language_info": {
   "codemirror_mode": {
    "name": "ipython",
    "version": 3
   },
   "file_extension": ".py",
   "mimetype": "text/x-python",
   "name": "python",
   "nbconvert_exporter": "python",
   "pygments_lexer": "ipython3",
   "version": "3.10.12"
  }
 },
 "nbformat": 4,
 "nbformat_minor": 2
}
