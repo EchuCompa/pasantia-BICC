{
 "cells": [
  {
   "cell_type": "markdown",
   "metadata": {},
   "source": [
    "##### Imports"
   ]
  },
  {
   "cell_type": "code",
   "execution_count": 1,
   "metadata": {},
   "outputs": [],
   "source": [
    "totalRuns = 0"
   ]
  },
  {
   "cell_type": "markdown",
   "metadata": {},
   "source": [
    "##### Experimenting with random topo sort generation"
   ]
  },
  {
   "cell_type": "code",
   "execution_count": 2,
   "metadata": {},
   "outputs": [
    {
     "name": "stdout",
     "output_type": "stream",
     "text": [
      "It will take 7.2576 time\n",
      "Random TopoSorts: 5.111539625999967\n",
      "Exact TopoSorts: 8.945000001858716e-05\n"
     ]
    }
   ],
   "source": [
    "from asvFormula.topoSorts import *\n",
    "from asvFormula.digraph import *\n",
    "import timeit, itertools\n",
    "\n",
    "\n",
    "graph = balancedTree(2,9)\n",
    "nSamples = int(allPolyTopoSorts(graph))\n",
    "runs = 2\n",
    "totalRuns += runs\n",
    "print(f'It will take {nSamples/100000*runs} time')\n",
    "\n",
    "randomTopoSortsTimed = timeit.timeit(lambda: randomTopoSorts(graph, nSamples), number=runs)\n",
    "exactTopoSortsTime = timeit.timeit(lambda: itertools.islice(nx.all_topological_sorts(graph), nSamples), number=runs)\n",
    "\n",
    "print(f\"Random TopoSorts: {randomTopoSortsTimed/runs}\")\n",
    "print(f\"Exact TopoSorts: {exactTopoSortsTime/runs}\")"
   ]
  },
  {
   "cell_type": "code",
   "execution_count": 3,
   "metadata": {},
   "outputs": [
    {
     "name": "stdout",
     "output_type": "stream",
     "text": [
      "notVisitedNodes: 0.7297604084014893,  Percentage: 22.071131596557887%\n",
      "calculateTopoSortsForNode: 1.039260745048523,  Percentage: 31.43176911631417%\n",
      "obtainRandomStartNodes: 0.9815701246261597,  Percentage: 29.686953611704713%\n",
      "addFirstNodeToAllTopos: 0.5558110475540161,  Percentage: 16.81014567542323%\n"
     ]
    }
   ],
   "source": [
    "global totalTime\n",
    "from asvFormula.topoSorts.randomTopoSortsGeneration import totalTime\n",
    "\n",
    "timeTaken = sum(totalTime.values())\n",
    "for code, time in totalTime.items():\n",
    "    print(f'{code}: {time/totalRuns},  Percentage: {time/timeTaken*100}%')\n",
    "\n"
   ]
  }
 ],
 "metadata": {
  "kernelspec": {
   "display_name": "Python 3",
   "language": "python",
   "name": "python3"
  },
  "language_info": {
   "codemirror_mode": {
    "name": "ipython",
    "version": 3
   },
   "file_extension": ".py",
   "mimetype": "text/x-python",
   "name": "python",
   "nbconvert_exporter": "python",
   "pygments_lexer": "ipython3",
   "version": "3.10.12"
  }
 },
 "nbformat": 4,
 "nbformat_minor": 2
}
