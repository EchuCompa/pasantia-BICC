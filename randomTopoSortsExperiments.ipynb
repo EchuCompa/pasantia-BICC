{
 "cells": [
  {
   "cell_type": "markdown",
   "metadata": {},
   "source": [
    "##### Imports"
   ]
  },
  {
   "cell_type": "code",
   "execution_count": 1,
   "metadata": {},
   "outputs": [],
   "source": [
    "totalRuns = 0"
   ]
  },
  {
   "cell_type": "markdown",
   "metadata": {},
   "source": [
    "##### Experimenting with random topo sort generation"
   ]
  },
  {
   "cell_type": "code",
   "execution_count": 4,
   "metadata": {},
   "outputs": [
    {
     "name": "stdout",
     "output_type": "stream",
     "text": [
      "It will take 72.576 time\n",
      "Random TopoSorts: 4.199536901500323\n",
      "Exact TopoSorts: 5.700000201613875e-06\n"
     ]
    }
   ],
   "source": [
    "from asvFormula.topoSorts import *\n",
    "from asvFormula.digraph import *\n",
    "import timeit, itertools\n",
    "\n",
    "\n",
    "graph = balancedTree(2,9)\n",
    "nSamples = int(allPolyTopoSorts(graph))\n",
    "runs = 2\n",
    "totalRuns += runs\n",
    "print(f'It will take {nSamples/10000*runs} time')\n",
    "\n",
    "randomTopoSortsTime = timeit.timeit(lambda: randomTopoSorts(graph, nSamples), number=runs)\n",
    "exactTopoSortsTime = timeit.timeit(lambda: itertools.islice(nx.all_topological_sorts(graph), nSamples), number=runs)\n",
    "\n",
    "print(f\"Random TopoSorts: {randomTopoSortsTime/runs}\")\n",
    "print(f\"Exact TopoSorts: {exactTopoSortsTime/runs}\")"
   ]
  },
  {
   "cell_type": "code",
   "execution_count": 6,
   "metadata": {},
   "outputs": [
    {
     "name": "stdout",
     "output_type": "stream",
     "text": [
      "notVisitedNodes: 0.3343989849090576,  Percentage: 10.683697866074612%\n",
      "isRootWithVisited: 0.459517240524292,  Percentage: 14.68109528905719%\n",
      "calculateTopoSortsForNode: 0.7980757355690002,  Percentage: 25.49768515410797%\n",
      "obtainRandomStartNodes: 0.9775009751319885,  Percentage: 31.230133922038128%\n",
      "randomTopoSortsAux: 0.5604999661445618,  Percentage: 17.907387768722106%\n"
     ]
    }
   ],
   "source": [
    "global totalTime\n",
    "from asvFormula.topoSorts.randomTopoSortsGeneration import totalTime\n",
    "\n",
    "timeTaken = sum(totalTime.values())\n",
    "for code, time in totalTime.items():\n",
    "    print(f'{code}: {time/totalRuns},  Percentage: {time/timeTaken*100}%')\n",
    "\n"
   ]
  }
 ],
 "metadata": {
  "kernelspec": {
   "display_name": "Python 3",
   "language": "python",
   "name": "python3"
  },
  "language_info": {
   "codemirror_mode": {
    "name": "ipython",
    "version": 3
   },
   "file_extension": ".py",
   "mimetype": "text/x-python",
   "name": "python",
   "nbconvert_exporter": "python",
   "pygments_lexer": "ipython3",
   "version": "3.10.12"
  }
 },
 "nbformat": 4,
 "nbformat_minor": 2
}
