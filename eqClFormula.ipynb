{
 "cells": [
  {
   "cell_type": "markdown",
   "metadata": {},
   "source": [
    "##### Imports"
   ]
  },
  {
   "cell_type": "code",
   "execution_count": 7,
   "metadata": {},
   "outputs": [],
   "source": [
    "import networkx as nx\n",
    "import itertools\n",
    "from scipy.special import comb\n",
    "import math\n",
    "from enum import Enum\n",
    "from typing import Any, List, Dict"
   ]
  },
  {
   "cell_type": "markdown",
   "metadata": {},
   "source": [
    "### Classify the nodes in the DAG"
   ]
  },
  {
   "cell_type": "code",
   "execution_count": 8,
   "metadata": {},
   "outputs": [],
   "source": [
    "\n",
    "class NodeState(Enum):\n",
    "    ANCESTOR = 1\n",
    "    DESCENDANT = 2\n",
    "    UNRELATED = 3\n",
    "    FEATURE = 4\n",
    "\n",
    "\n",
    "#Classify the nodes into the category descendants, ancestors and unrelated. \n",
    "\n",
    "def classifyNodes(dag: nx.DiGraph, x_i : Any, nodes_classification : Dict[Any, NodeState]):\n",
    "    ancestors = nx.ancestors(dag, x_i)\n",
    "    descendants = nx.descendants(dag, x_i)\n",
    "    unrelated_roots = []\n",
    "    for node in dag.nodes():\n",
    "        if node in ancestors:\n",
    "            nodes_classification[node] = NodeState.ANCESTOR\n",
    "        elif node in descendants:\n",
    "            nodes_classification[node] = NodeState.DESCENDANT\n",
    "        elif node == x_i:\n",
    "            nodes_classification[node] = NodeState.FEATURE\n",
    "        else:\n",
    "            nodes_classification[node] = NodeState.UNRELATED\n",
    "            if isRoot(node, dag):\n",
    "                unrelated_roots.append(node)\n",
    "\n",
    "    return unrelated_roots\n"
   ]
  },
  {
   "cell_type": "markdown",
   "metadata": {},
   "source": [
    "#### Equivalence Class definition"
   ]
  },
  {
   "cell_type": "code",
   "execution_count": 9,
   "metadata": {},
   "outputs": [],
   "source": [
    "class nodePosition:\n",
    "\n",
    "    def __init__(self, node_name, appears_after_xi : bool) -> None:\n",
    "        self.node_name = node_name\n",
    "        self.appears_after_xi = appears_after_xi\n",
    "\n",
    "    def isBefore(self):\n",
    "        return not self.appears_after_xi\n",
    "\n",
    "    def __str__(self):\n",
    "        return f\"({self.node_name}, {self.appears_after_xi})\"\n",
    "\n",
    "class equivalenceClass:\n",
    "\n",
    "    def __init__(self, unrelated_node_position, left_topo=1, right_topo=1):\n",
    "        self.position = unrelated_node_position\n",
    "        self.left_topo = left_topo\n",
    "        self.right_topo = right_topo\n",
    "    \n",
    "    def nodes_before(self): #The nodes before x_i\n",
    "        return sum(map(lambda node_pos : node_pos.isBefore(), self.position))\n",
    "    \n",
    "    def nodes_after(self): #The nodes after x_i\n",
    "        return len(self.position) - self.nodes_before()\n",
    "    \n",
    "    def classSize(self): #Number of topological orders\n",
    "        return self.left_topo * self.right_topo\n",
    "\n",
    "    def __str__(self):\n",
    "        positions = [str(x) for x in self.position]\n",
    "        return f\"Equivalence Class (Nodes={positions}, Size={self.classSize()})\""
   ]
  },
  {
   "cell_type": "markdown",
   "metadata": {},
   "source": [
    "#### Auxiliary Functions"
   ]
  },
  {
   "cell_type": "code",
   "execution_count": 10,
   "metadata": {},
   "outputs": [],
   "source": [
    "def isLeaf(node, dag : nx.DiGraph):\n",
    "    return dag.out_degree(node) == 0\n",
    "\n",
    "def isRoot(node, dag : nx.DiGraph):\n",
    "    return dag.in_degree(node) == 0\n",
    "\n",
    "def multinomial_coefficient(args):\n",
    "    n = sum(args)\n",
    "    coeff = 1\n",
    "    for k in args:\n",
    "        coeff *= comb(n, k, exact=True)\n",
    "        n -= k\n",
    "    return coeff\n",
    "\n",
    "def unionOf(equivalence_classes : List[equivalenceClass]):\n",
    "    n = len(equivalence_classes)\n",
    "    positions = set()\n",
    "    nodes_before = [0]*n\n",
    "    nodes_after = [0]*n\n",
    "    left_topos = [0]*n\n",
    "    right_topos = [0]*n\n",
    "    for i,eq_class in enumerate(equivalence_classes):\n",
    "        nodes_before[i] = eq_class.nodes_before()\n",
    "        nodes_after[i] = eq_class.nodes_after()\n",
    "        left_topos[i] = eq_class.left_topo\n",
    "        right_topos[i] = eq_class.right_topo\n",
    "        positions = positions.union(eq_class.position)\n",
    "\n",
    "    left_size = multinomial_coefficient(nodes_before) * math.prod(left_topos)\n",
    "    right_size = multinomial_coefficient(nodes_after) * math.prod(right_topos)\n",
    "    return equivalenceClass(positions, left_size, right_size)"
   ]
  },
  {
   "cell_type": "markdown",
   "metadata": {},
   "source": [
    "### Recursive Equivalence Class formula"
   ]
  },
  {
   "cell_type": "code",
   "execution_count": 11,
   "metadata": {},
   "outputs": [],
   "source": [
    "\n",
    "\n",
    "def equivalenceClassesSizes(node, dag : nx.DiGraph):\n",
    "    if isLeaf(node, dag):\n",
    "        classes = []\n",
    "        for x in [True, False]:\n",
    "           classes.append(equivalenceClass({nodePosition(str(node), x)}))\n",
    "        return classes\n",
    "    \n",
    "    children_classes = list(map(lambda child : equivalenceClassesSizes(child,dag), dag.successors(node)))\n",
    "    classes_combinations = list(itertools.product(*children_classes)) #Generate al the possible combinations for each eqClass of each child with the eqClass of the other children. \n",
    "    classes = list(map(lambda mix : unionOf(mix), classes_combinations))\n",
    "    return classes\n",
    "\n",
    "# If it has more than one root we need to add one root and connect it to all of the roots of the unrelated nodes. \n",
    "\n",
    "def setUp(dag : nx.DiGraph, unrelated_roots : List[Any]):\n",
    "    if len(unrelated_roots)>1:\n",
    "        for root in unrelated_roots:\n",
    "            dag.add_edge(new_root, root)\n",
    "        return new_root\n",
    "    return unrelated_roots[0]\n",
    "\n",
    "def tearDown(dag : nx.DiGraph):\n",
    "    if dag.has_node(new_root):\n",
    "        edges_to_remove =  list(dag.out_edges(new_root))\n",
    "        dag.remove_edges_from(edges_to_remove)\n"
   ]
  },
  {
   "cell_type": "markdown",
   "metadata": {},
   "source": [
    "### Iterative Equivalence Classes"
   ]
  },
  {
   "cell_type": "code",
   "execution_count": 12,
   "metadata": {},
   "outputs": [],
   "source": [
    "def naiveEquivalenceClassesSizes(dag : nx.DiGraph, nodes_classification: Dict[Any, NodeState], x_i : Any):\n",
    "   all_topo_sorts = list(nx.all_topological_sorts(Naive_Bayes))\n",
    "   unrelated_nodes = list(filter(lambda node : nodes_classification[node] == NodeState.UNRELATED, dag.nodes))\n",
    "   unrelated_nodes = {node : i for i,node in enumerate(unrelated_nodes)}\n",
    "      \n",
    "   result = {}\n",
    "   for topoSort in all_topo_sorts:\n",
    "      hash = hashTopoSort(topoSort, unrelated_nodes, x_i)\n",
    "      actual_value = result.get(hash, [topoSort, 0])\n",
    "      result[hash] = [actual_value[0], actual_value[1] + 1]\n",
    "      # It has a represntative of each class and the number of topological orders that are in that class.\n",
    "\n",
    "   return result\n",
    "\n",
    "#Returns a hash that is the binary number which has 0 or 1 in the i-th position if the i-th unrelated node is before or after x_i\n",
    "\n",
    "def hashTopoSort(topoSort : List[Any], unrelated_nodes : Dict[Any, int], x_i : Any):\n",
    "   hash = 0\n",
    "   for node in topoSort:\n",
    "      if node == x_i:\n",
    "         break\n",
    "      if node in unrelated_nodes:\n",
    "         hash += 2 ** unrelated_nodes[node]\n",
    "   return hash"
   ]
  },
  {
   "cell_type": "markdown",
   "metadata": {},
   "source": [
    "#### First example"
   ]
  },
  {
   "cell_type": "code",
   "execution_count": 14,
   "metadata": {},
   "outputs": [
    {
     "name": "stdout",
     "output_type": "stream",
     "text": [
      "True\n"
     ]
    }
   ],
   "source": [
    "Naive_Bayes = nx.DiGraph()\n",
    "Naive_Bayes.add_nodes_from([0,1,2,3,4,5,6])\n",
    "#Naive_Bayes.add_edges_from([\n",
    "#    (1, 2),\n",
    "#    (1, 3),\n",
    "#    (1, 4)\n",
    "#])\n",
    "#Naive_Bayes.add_edges_from([\n",
    "#    (1, 2),\n",
    "#    (1, 3),\n",
    "#    (1, 4)\n",
    "#])\n",
    "\n",
    "all_topo_sorts = list(nx.all_topological_sorts(Naive_Bayes))\n",
    "\n",
    "x_i = 5\n",
    "nodes_classification = {}\n",
    "new_root = 'r0' \n",
    "unr_roots =  classifyNodes(Naive_Bayes, x_i, nodes_classification)\n",
    "\n",
    "naiveClassesSizes = naiveEquivalenceClassesSizes(Naive_Bayes, nodes_classification, x_i)\n",
    "\n",
    "new_root = setUp(Naive_Bayes, unr_roots)\n",
    "classesSize = equivalenceClassesSizes(new_root, Naive_Bayes)\n",
    "tearDown(Naive_Bayes)\n",
    "\n",
    "\n",
    "number_of_topos = 0\n",
    "for eq_class in classesSize:\n",
    "#   print(eq_class)\n",
    "    number_of_topos += eq_class.classSize()\n",
    "\n",
    "print(number_of_topos == len(all_topo_sorts))\n"
   ]
  }
 ],
 "metadata": {
  "kernelspec": {
   "display_name": "Python 3",
   "language": "python",
   "name": "python3"
  },
  "language_info": {
   "codemirror_mode": {
    "name": "ipython",
    "version": 3
   },
   "file_extension": ".py",
   "mimetype": "text/x-python",
   "name": "python",
   "nbconvert_exporter": "python",
   "pygments_lexer": "ipython3",
   "version": "3.10.12"
  }
 },
 "nbformat": 4,
 "nbformat_minor": 2
}
