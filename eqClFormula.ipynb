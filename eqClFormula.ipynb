{
 "cells": [
  {
   "cell_type": "markdown",
   "metadata": {},
   "source": [
    "##### Imports"
   ]
  },
  {
   "cell_type": "code",
   "execution_count": 1,
   "metadata": {},
   "outputs": [],
   "source": [
    "import sys, os\n",
    "from digraph import *\n",
    "from equivalenceClass import *\n",
    "from topoSorts import *\n",
    "from algorithmTime import *\n",
    "from recursiveFormula import *\n",
    "from naiveFormula import *\n",
    "import pandas as pd\n",
    "#TODO: Mantener una consistencia entre el Camel Cases o el Snake Case, revisar que se usa en Python\n",
    "\n",
    "# Variable to store the number of hits in the memoization table"
   ]
  },
  {
   "cell_type": "markdown",
   "metadata": {},
   "source": [
    "### Testing functions"
   ]
  },
  {
   "cell_type": "code",
   "execution_count": 2,
   "metadata": {},
   "outputs": [],
   "source": [
    "def assertEquivalenceClassesForNode(dag: nx.DiGraph, feature_node, all_topo_sorts: List[List[Any]], timing_dict: Dict[str, Dict[str, float]]):\n",
    "    \n",
    "    nodes_classification = {}\n",
    "    unr_roots = classifyNodes(dag, feature_node, nodes_classification)\n",
    "    hasher = TopoSortHasher(nodes_classification)\n",
    "\n",
    "    # Naive approach\n",
    "    start_time = time.time()\n",
    "    naiveClassesSizes = naiveEquivalenceClassesSizes(all_topo_sorts, feature_node, hasher)\n",
    "    end_time = time.time()\n",
    "    timing_dict[feature_node]['Naive Formula'] = end_time - start_time\n",
    "\n",
    "    # Recursive approach\n",
    "    start_time = time.time()\n",
    "    recursiveClassesSizes = recursiveEquivalenceClassesSizes(dag, unr_roots, hasher, feature_node, nodes_classification)\n",
    "    end_time = time.time()\n",
    "    timing_dict[feature_node]['Recursive Formula'] = end_time - start_time\n",
    "\n",
    "    timing_dict[feature_node]['Number of equivalence classes'] = len(naiveClassesSizes.keys())\n",
    "    \n",
    "    # Assert that each equivalence class has the same number of elements.\n",
    "\n",
    "    naiveEqClasses = len(naiveClassesSizes.keys())\n",
    "    recursiveEqClasses = len(recursiveClassesSizes.keys())\n",
    "    if naiveEqClasses != recursiveEqClasses and numberOfEquivalenceClasses(dag, feature_node) != naiveEqClasses:\n",
    "        raise AssertionError(f\"The number of equivalence classes is different. \\n Naive Approach: {naiveEqClasses}, Recursive Approach: {recursiveEqClasses} \\n Feature Node: {feature_node}\")\n",
    "\n",
    "    assertTopoSortsAndEquivalenceClasses(dag, feature_node, recursiveClassesSizes)\n",
    "\n",
    "    for eqClassHash in naiveClassesSizes.keys():\n",
    "        clSize1 = naiveClassesSizes[eqClassHash][1]\n",
    "        clTopo1 = naiveClassesSizes[eqClassHash][0]\n",
    "        try: \n",
    "            clSize2 = recursiveClassesSizes[eqClassHash][1]\n",
    "            clTopo2 = recursiveClassesSizes[eqClassHash][0]\n",
    "        except KeyError:\n",
    "            raise AssertionError(f\"The equivalence class {eqClassHash} is not present in the recursive approach. \\n Naive Approach: Topo {clTopo1}, Size {clSize1} \\n Feature Node: {feature_node}\")\n",
    "        if (clSize1 != clSize2):\n",
    "            raise AssertionError(f\"The sizes of the equivalence classes are not equal. \\n Naive Approach: Topo {clTopo1}, Size {clSize1} \\n Recursive Approach: Topo {clTopo2}, Size {clSize2} \\n Feature Node: {feature_node}\")\n",
    "\n",
    "#TODO: Find a better algorithm than all_topological_sorts, it takes too much time. In the paper they mention a dynamic programming approach, maybe implement that. This takes too much time.\n",
    "\n",
    "def assertEquivClassesForDag(dag: nx.DiGraph, nodesToEvaluate = None, allSorts = None) -> Dict[str, float]:\n",
    "    timing_dict = {}\n",
    "    \n",
    "    # Measure time for all topological sorts\n",
    "    start_time = time.time()\n",
    "    all_topo_sorts = allSorts if allSorts != None else list(nx.all_topological_sorts(dag))\n",
    "    assert len(all_topo_sorts) == allTopoSorts(dag)\n",
    "    end_time = time.time()\n",
    "    timing_dict['Time Of Topological Sorts'] = end_time - start_time\n",
    "    timing_dict['Number of Topological Sorts'] = len(all_topo_sorts)\n",
    "    \n",
    "    nodesToEvaluate = nodesToEvaluate if nodesToEvaluate != None else list(dag.nodes)\n",
    "    for node in nodesToEvaluate:\n",
    "            timing_dict[node] = {}\n",
    "            assertEquivalenceClassesForNode(dag, node, all_topo_sorts, timing_dict)\n",
    "    \n",
    "    return timing_dict"
   ]
  },
  {
   "cell_type": "markdown",
   "metadata": {},
   "source": [
    "## Examples"
   ]
  },
  {
   "cell_type": "code",
   "execution_count": 3,
   "metadata": {},
   "outputs": [],
   "source": [
    "numNodes = 7\n",
    "\n",
    "emptyTestGraph = emptyGraph(numNodes)\n",
    "resEmptyGraph = assertEquivClassesForDag(emptyTestGraph)\n",
    "\n",
    "naiveBayesTest = naiveBayes(numNodes)\n",
    "resNaiveBayes = assertEquivClassesForDag(naiveBayesTest)\n",
    "\n",
    "lengthOfPath = 4\n",
    "naiveBayesWithPathTest = naiveBayesWithPath(numNodes, lengthOfPath)\n",
    "resNaiveBayesWithPath = assertEquivClassesForDag(naiveBayesWithPathTest)\n",
    "\n",
    "numberOfPaths = 3\n",
    "numNodes = 3\n",
    "multiplePathsTest = multiplePaths(numNodes, numberOfPaths)\n",
    "resMultiplePaths = assertEquivClassesForDag(multiplePathsTest)\n",
    "\n",
    "numLevels = 2\n",
    "branchingFactor = 3\n",
    "treeTest = balancedTree(numLevels, branchingFactor)\n",
    "resTree = assertEquivClassesForDag(treeTest)\n",
    "\n",
    "def test_allTopos(graph):\n",
    "    all_topos = allTopoSorts(graph)\n",
    "    all_topo_sorts = list(nx.all_topological_sorts(graph))\n",
    "    assert all_topos == len(all_topo_sorts), \"allTopos and all_topological_sorts have different lengths\"\n",
    "\n",
    "for graph in [emptyTestGraph, naiveBayesTest, naiveBayesWithPathTest, multiplePathsTest, treeTest]:\n",
    "    test_allTopos(graph)\n"
   ]
  },
  {
   "cell_type": "markdown",
   "metadata": {},
   "source": [
    "## Experimentation"
   ]
  },
  {
   "cell_type": "markdown",
   "metadata": {},
   "source": [
    "### Auxiliary Functions"
   ]
  },
  {
   "cell_type": "code",
   "execution_count": 4,
   "metadata": {},
   "outputs": [],
   "source": [
    "printEnabled = True\n",
    "def disablePrint():\n",
    "    global printEnabled\n",
    "    if printEnabled:\n",
    "        sys._jupyter_stdout = sys.stdout\n",
    "        sys.stdout = open(os.devnull, 'w')\n",
    "        printEnabled = False\n",
    "\n",
    "def enablePrint():\n",
    "    global printEnabled\n",
    "    printEnabled = True\n",
    "    sys.stdout.close()\n",
    "    sys.stdout = sys._jupyter_stdout\n",
    "\n",
    "def convertDictToCsv(dict, filename):\n",
    "\n",
    "    df = pd.DataFrame.from_dict(dict, orient='index')\n",
    "\n",
    "    # Save the DataFrame to a CSV file\n",
    "    df.to_csv(filename)"
   ]
  },
  {
   "cell_type": "markdown",
   "metadata": {},
   "source": [
    "### Time Naive Bayes"
   ]
  },
  {
   "cell_type": "code",
   "execution_count": null,
   "metadata": {},
   "outputs": [],
   "source": [
    "def timeMultipleNaiveBayes(numNodes, pathLength, startFrom = 1):\n",
    "    graphsResults = {}\n",
    "    for i in range(startFrom,numNodes+1):\n",
    "        for j in range(startFrom,pathLength+1):\n",
    "            graphToEvaluate = naiveBayesWithPath(i, j)\n",
    "            nodesToEvaluate = list(range(i+j-8, i+j))\n",
    "            print(f'{i} Children, {j} PathLength' + str(nodesToEvaluate))\n",
    "            graphsResults[f'{i} Children, {j} PathLength'] = measure_graph_data(graphToEvaluate, nodesToEvaluate)\n",
    "            convertDictToCsv(graphsResults, 'naiveBayes.csv')\n",
    "    return graphsResults\n",
    "    \n",
    "\n",
    "numNodes = 20\n",
    "pathLenght = 20\n",
    "        \n",
    "resNaiveBayes = timeMultipleNaiveBayes(numNodes, pathLenght,10)\n",
    "convertDictToCsv(resNaiveBayes, 'naiveBayes.csv')"
   ]
  },
  {
   "cell_type": "markdown",
   "metadata": {},
   "source": [
    "### Time multiple Paths"
   ]
  },
  {
   "cell_type": "code",
   "execution_count": 7,
   "metadata": {},
   "outputs": [],
   "source": [
    "def timeMultiplePathsGraphs(numPaths, pathLength, startFrom = 1):\n",
    "    graphsResults = {}\n",
    "    for i in range(startFrom,numPaths+1):\n",
    "        for j in range(startFrom,pathLength+1):\n",
    "            graphToEvaluate = multiplePaths(i, j)\n",
    "            #drawGraph(graphToEvaluate)\n",
    "            nodesToEvaluate = list(range(0, j))\n",
    "            print(f'{i} Paths, {j} Length' + str(nodesToEvaluate))\n",
    "            graphsResults[f'{i} Paths, {j} Length'] = measure_graph_data(graphToEvaluate, nodesToEvaluate)\n",
    "            convertDictToCsv(graphsResults, 'multiplePaths.csv')\n",
    "            print()\n",
    "\n",
    "    return graphsResults\n",
    "    \n",
    "\n",
    "numberOfPaths = 8\n",
    "pathLenght = 8\n",
    "\n",
    "resMultiplePaths = timeMultiplePathsGraphs(numberOfPaths, pathLenght,4)\n",
    "convertDictToCsv(resMultiplePaths, 'multiplePaths.csv')"
   ]
  },
  {
   "cell_type": "code",
   "execution_count": 7,
   "metadata": {},
   "outputs": [],
   "source": [
    "def timeMultipleBalancedTrees(numLevels, branchingFactor = 2, startLevels = 1, starBranching = 2):\n",
    "    graphsResults = {}\n",
    "    for i in range(startLevels,numLevels+1):\n",
    "        for j in range(starBranching,branchingFactor+1):\n",
    "            graphToEvaluate = balancedTree(i, j)\n",
    "            #drawGraph(graphToEvaluate)\n",
    "            leafNode = [node for node in graphToEvaluate.nodes if isLeaf(node, graphToEvaluate)][0]\n",
    "            pathToLeaf = orderedNodes(graphToEvaluate, nx.ancestors(graphToEvaluate, leafNode)) + [leafNode]\n",
    "            print(f'{i} Levels, {j} Branching' + str(pathToLeaf))\n",
    "            graphsResults[f'{i} Levels, {j} Branching'] = measure_graph_data(graphToEvaluate, pathToLeaf)\n",
    "            convertDictToCsv(graphsResults, 'balancedTrees.csv')\n",
    "            \n",
    "\n",
    "    return graphsResults\n",
    "\n",
    "numLevels = 6\n",
    "branchingFactor = 3\n",
    "\n",
    "resBalancedTrees = timeMultipleBalancedTrees(numLevels, branchingFactor, 2, 2)\n",
    "convertDictToCsv(resBalancedTrees, 'balancedTrees.csv')\n"
   ]
  }
 ],
 "metadata": {
  "kernelspec": {
   "display_name": "Python 3",
   "language": "python",
   "name": "python3"
  },
  "language_info": {
   "codemirror_mode": {
    "name": "ipython",
    "version": 3
   },
   "file_extension": ".py",
   "mimetype": "text/x-python",
   "name": "python",
   "nbconvert_exporter": "python",
   "pygments_lexer": "ipython3",
   "version": "3.10.12"
  }
 },
 "nbformat": 4,
 "nbformat_minor": 2
}
