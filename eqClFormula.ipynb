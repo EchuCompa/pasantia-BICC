{
 "cells": [
  {
   "cell_type": "markdown",
   "metadata": {},
   "source": [
    "##### Imports"
   ]
  },
  {
   "cell_type": "code",
   "execution_count": 1,
   "metadata": {},
   "outputs": [],
   "source": [
    "import networkx as nx\n",
    "import itertools\n",
    "from scipy.special import comb\n",
    "import math\n",
    "from enum import Enum\n",
    "import matplotlib.pyplot as plt\n",
    "from typing import Any, List, Dict, Set\n",
    "import time\n",
    "\n",
    "#TODO: Mantener una consistencia entre el Camel Cases o el Snake Case, revisar que se usa en Python"
   ]
  },
  {
   "cell_type": "markdown",
   "metadata": {},
   "source": [
    "#### Digraph"
   ]
  },
  {
   "cell_type": "code",
   "execution_count": 2,
   "metadata": {},
   "outputs": [],
   "source": [
    "def isLeaf(node, dag : nx.DiGraph):\n",
    "    return dag.out_degree(node) == 0\n",
    "\n",
    "def isRoot(node, dag : nx.DiGraph):\n",
    "    return dag.in_degree(node) == 0"
   ]
  },
  {
   "cell_type": "markdown",
   "metadata": {},
   "source": [
    "#### Classify the nodes in the DAG"
   ]
  },
  {
   "cell_type": "code",
   "execution_count": 3,
   "metadata": {},
   "outputs": [],
   "source": [
    "\n",
    "class NodeState(Enum):\n",
    "    ANCESTOR = 1\n",
    "    DESCENDANT = 2\n",
    "    UNRELATED = 3\n",
    "    FEATURE = 4\n",
    "\n",
    "\n",
    "#Classify the nodes into the category descendants, ancestors and unrelated. \n",
    "\n",
    "def classifyNodes(dag: nx.DiGraph, x_i : Any, nodes_classification : Dict[Any, NodeState]):\n",
    "    ancestors = nx.ancestors(dag, x_i)\n",
    "    descendants = nx.descendants(dag, x_i)\n",
    "    unrelated_roots = []\n",
    "    for node in dag.nodes():\n",
    "        if node in ancestors:\n",
    "            nodes_classification[node] = NodeState.ANCESTOR\n",
    "        elif node in descendants:\n",
    "            nodes_classification[node] = NodeState.DESCENDANT\n",
    "        elif node == x_i:\n",
    "            nodes_classification[node] = NodeState.FEATURE\n",
    "        else:\n",
    "            nodes_classification[node] = NodeState.UNRELATED\n",
    "            parents =  list(dag.predecessors(node))\n",
    "            parentIsAncestor = (parents[0] in ancestors) if len(parents) != 0 else False\n",
    "            if isRoot(node, dag) or parentIsAncestor:\n",
    "                unrelated_roots.append(node)\n",
    "\n",
    "\n",
    "    return unrelated_roots\n"
   ]
  },
  {
   "cell_type": "markdown",
   "metadata": {},
   "source": [
    "#### Equivalence Class definition"
   ]
  },
  {
   "cell_type": "code",
   "execution_count": 4,
   "metadata": {},
   "outputs": [],
   "source": [
    "class NodePosition:\n",
    "\n",
    "    def __init__(self, node_name, appears_after_xi : bool) -> None:\n",
    "        self.node_name = node_name\n",
    "        self.appears_after_xi = appears_after_xi\n",
    "\n",
    "    def isBefore(self):\n",
    "        return not self.appears_after_xi\n",
    "    \n",
    "    def nodeName(self):\n",
    "        return self.node_name\n",
    "\n",
    "    def __str__(self):\n",
    "        return f\"({self.node_name}, {self.appears_after_xi})\"\n",
    "\n",
    "class EquivalenceClass:\n",
    "\n",
    "    def __init__(self, unrelated_node_position : Set[NodePosition], left_topo=1, right_topo=1):\n",
    "        self.position = unrelated_node_position\n",
    "        self.left_topo = left_topo\n",
    "        self.right_topo = right_topo\n",
    "    \n",
    "    def nodes_before(self): #The nodes before x_i\n",
    "        positions = filter(lambda node_pos : node_pos.isBefore(), self.position)\n",
    "        return list(map(lambda p : p.nodeName(),  positions))\n",
    "\n",
    "    def num_nodes_before(self): \n",
    "        return len(self.nodes_before())\n",
    "    \n",
    "    def num_nodes_after(self): #The nodes after x_i\n",
    "        return len(self.position) - self.num_nodes_before()\n",
    "    \n",
    "    def classSize(self): #Number of topological orders\n",
    "        return self.left_topo * self.right_topo\n",
    "    \n",
    "    def __str__(self):\n",
    "        positions = [str(x) for x in self.position]\n",
    "        return f\"Equivalence Class (Nodes={positions}, Size={self.classSize()})\"\n",
    "    \n",
    "    def addNodes(self, nodes : Set[NodePosition]):\n",
    "        self.position = self.position.union(nodes)\n",
    "\n",
    "    def addLeftTopo(self, leftTopos : int):\n",
    "        self.left_topo *= leftTopos"
   ]
  },
  {
   "cell_type": "markdown",
   "metadata": {},
   "source": [
    "### Auxiliary Functions"
   ]
  },
  {
   "cell_type": "markdown",
   "metadata": {},
   "source": [
    "#### Equivalence Classes manipulation"
   ]
  },
  {
   "cell_type": "code",
   "execution_count": 5,
   "metadata": {},
   "outputs": [],
   "source": [
    "def multinomial_coefficient(args) -> int:\n",
    "    n = sum(args)\n",
    "    coeff = 1\n",
    "    for k in args:\n",
    "        coeff *= comb(n, k, exact=True)\n",
    "        n -= k\n",
    "    return int(coeff)\n",
    "\n",
    "def unionOf(equivalence_classes : List[EquivalenceClass]) -> EquivalenceClass:\n",
    "    n = len(equivalence_classes)\n",
    "    positions = set()\n",
    "    nodes_before = [0]*n\n",
    "    nodes_after = [0]*n\n",
    "    left_topos = [0]*n\n",
    "    right_topos = [0]*n\n",
    "    for i,eq_class in enumerate(equivalence_classes):\n",
    "        nodes_before[i] = eq_class.num_nodes_before()\n",
    "        nodes_after[i] = eq_class.num_nodes_after()\n",
    "        left_topos[i] = eq_class.left_topo\n",
    "        right_topos[i] = eq_class.right_topo\n",
    "        positions = positions.union(eq_class.position)\n",
    "\n",
    "    left_size = multinomial_coefficient(nodes_before) * math.prod(left_topos)\n",
    "    right_size = multinomial_coefficient(nodes_after) * math.prod(right_topos)\n",
    "    return EquivalenceClass(positions, left_size, right_size)\n",
    "\n",
    "\n",
    "def lastUnionOf(unr_classes : List[List[EquivalenceClass]], ancestors : List[Any], descendants : List[Any], descendantsTopoSorts : int) -> List[EquivalenceClass]:\n",
    "    classes_combinations = list(itertools.product(*unr_classes)) #Generate al the possible combinations for each eqClass of each child with the eqClass of the other children. \n",
    "    \n",
    "    descendants_position = set([NodePosition(des, True) for des in descendants])\n",
    "    descendants_eqClass = EquivalenceClass(descendants_position,1, descendantsTopoSorts) \n",
    "    \n",
    "    # All the descendants appear after the feature node, because all of them appear before it then it has 1 rigth_topo (the empty one). \n",
    "\n",
    "    #TODO: Try to find a better way to do it and not just to if it\n",
    "    if (len(ancestors) == 0 and len(descendants) == 0):\n",
    "        classes = list(map(lambda mix : unionOf(list(mix)), classes_combinations))\n",
    "    elif (len(ancestors) == 0):\n",
    "        classes = list(map(lambda mix : unionOf(list(mix)), classes_combinations))\n",
    "        classes = [unionOf([descendants_eqClass, mix]) for mix in classes]\n",
    "    elif (len(descendants) == 0):\n",
    "        classes = []\n",
    "        for unr_class in classes_combinations:\n",
    "            ascendantsCombinationsWithUnrelated = 1\n",
    "            ascendants_position = set([NodePosition(des, False) for des in descendants])\n",
    "\n",
    "            eqClass = unionOf(list(unr_class))\n",
    "\n",
    "            eqClass.addNodes(ascendants_position)\n",
    "            eqClass.addLeftTopo(ascendantsCombinationsWithUnrelated)\n",
    "            classes.append(eqClass)\n",
    "\n",
    "    return classes\n"
   ]
  },
  {
   "cell_type": "markdown",
   "metadata": {},
   "source": [
    "#### Topological sorts"
   ]
  },
  {
   "cell_type": "code",
   "execution_count": 6,
   "metadata": {},
   "outputs": [],
   "source": [
    "#Returns a hash that is the binary number which has 0 or 1 in the i-th position if the i-th unrelated node is before or after x_i\n",
    "\n",
    "class TopoSortHasher:\n",
    "    def __init__(self, nodes_classification: Dict[Any, NodeState]):\n",
    "        self._unrelated_nodes_ids = self._get_unrelated_nodes(nodes_classification)\n",
    "\n",
    "    def _get_unrelated_nodes(self, nodes_classification: Dict[Any, NodeState]):\n",
    "        unrelated_nodes = list(filter(lambda node: nodes_classification[node] == NodeState.UNRELATED, nodes_classification.keys()))\n",
    "        self._unrelated_nodes_ids = {node: i for i, node in enumerate(unrelated_nodes)}\n",
    "        return self._unrelated_nodes_ids\n",
    "\n",
    "    def hashTopoSort(self, topoSort: List[Any], x_i: Any) -> int:\n",
    "        unrelated_nodes = self._unrelated_nodes_ids\n",
    "        hash_val = 0\n",
    "        for node in topoSort:\n",
    "            if node == x_i:\n",
    "                break\n",
    "            if node in unrelated_nodes:\n",
    "                hash_val += 2 ** unrelated_nodes[node]\n",
    "        return hash_val\n"
   ]
  },
  {
   "cell_type": "code",
   "execution_count": 7,
   "metadata": {},
   "outputs": [],
   "source": [
    "#Returns the size of the tree and the number of topological sorts\n",
    "\n",
    "def sizeAndNumberOfTopoSorts(node, dag : nx.DiGraph):\n",
    "    if isLeaf(node, dag):\n",
    "        return 1,1\n",
    "    \n",
    "    children_sizes = []\n",
    "    children_topoSorts = []\n",
    "\n",
    "    \n",
    "    for child in dag.successors(node):\n",
    "        child_size, child_topos =  sizeAndNumberOfTopoSorts(child,dag)\n",
    "        children_topoSorts.append(child_size)\n",
    "        children_sizes.append(child_topos)\n",
    "        \n",
    "\n",
    "    topos = multinomial_coefficient(children_sizes) * math.prod(children_topoSorts)\n",
    "    return sum(children_sizes), topos\n",
    "\n",
    "    \n",
    "def topoSortsFrom(node, dag : nx.DiGraph):\n",
    "   _, topos = sizeAndNumberOfTopoSorts(node, dag)\n",
    "   return topos"
   ]
  },
  {
   "cell_type": "markdown",
   "metadata": {},
   "source": [
    "### Equivalence Classes Formulas"
   ]
  },
  {
   "cell_type": "markdown",
   "metadata": {},
   "source": [
    "#### Recursive Equivalence Class formula"
   ]
  },
  {
   "cell_type": "code",
   "execution_count": 8,
   "metadata": {},
   "outputs": [],
   "source": [
    "def unrelatedEquivalenceClassesSizes(node, dag : nx.DiGraph) -> List[EquivalenceClass]:\n",
    "    if isLeaf(node, dag):\n",
    "        classes = []\n",
    "        for x in [True, False]:\n",
    "           classes.append(EquivalenceClass({NodePosition(node, x)}))\n",
    "        return classes\n",
    "    \n",
    "    children_classes = list(map(lambda child : unrelatedEquivalenceClassesSizes(child,dag), dag.successors(node)))\n",
    "\n",
    "    children_classes.append([EquivalenceClass({NodePosition(node, False)})])\n",
    "    # All the equivalence classes will have this node in the left part. \n",
    "\n",
    "    classes_combinations = list(itertools.product(*children_classes)) #Generate al the possible combinations for each eqClass of each child with the eqClass of the other children. \n",
    "    classes = list(map(lambda mix : unionOf(list(mix)), classes_combinations))\n",
    "    return classes\n",
    "\n",
    "\n",
    "def recursiveEquivalenceClassesSizes(dag : nx.DiGraph, unr_roots : List[Any], hasher : TopoSortHasher, feature_node):\n",
    "    unr_classes = list(map(lambda child : unrelatedEquivalenceClassesSizes(child,dag), unr_roots))\n",
    "    ancestors = nx.ancestors(dag, feature_node)\n",
    "    descendants = nx.descendants(dag, feature_node)\n",
    "\n",
    "    descendantsTopoSorts = topoSortsFrom(feature_node, dag)\n",
    "    recursiveClassesSizes = lastUnionOf(unr_classes, ancestors, descendants, descendantsTopoSorts)\n",
    "\n",
    "    recursiveClassesSizes = hashEquivClasses(recursiveClassesSizes, hasher)\n",
    "    return recursiveClassesSizes\n",
    "\n",
    "\n",
    "\n",
    "def hashEquivClasses(equivClasses : List[EquivalenceClass], hasher : TopoSortHasher):\n",
    "    hashedClasses = {}\n",
    "    for eqClass in equivClasses:\n",
    "        topoSortForClass = eqClass.nodes_before()\n",
    "        hash = hasher.hashTopoSort(topoSortForClass, None)\n",
    "        hashedClasses[hash] = [topoSortForClass,  eqClass.classSize()]\n",
    "    \n",
    "    return hashedClasses\n",
    "        "
   ]
  },
  {
   "cell_type": "markdown",
   "metadata": {},
   "source": [
    "#### Naive Equivalence Classes"
   ]
  },
  {
   "cell_type": "code",
   "execution_count": 9,
   "metadata": {},
   "outputs": [],
   "source": [
    "def naiveEquivalenceClassesSizes(all_topo_sorts : List[List[Any]], nodes_classification: Dict[Any, NodeState], x_i : Any, hasher : TopoSortHasher):\n",
    "      \n",
    "   result = {}\n",
    "   for topoSort in all_topo_sorts:\n",
    "      hash = hasher.hashTopoSort(topoSort, x_i)\n",
    "      actual_value = result.get(hash, [topoSort, 0])\n",
    "      result[hash] = [actual_value[0], actual_value[1] + 1]\n",
    "      # It has a representative of each class and the number of topological orders that are in that class.\n",
    "\n",
    "   return result\n",
    "\n",
    "#TODO: Here I don't need the topological orders with the descendants of x_i, I can remove them and then multiply the number of topological orders of each class. \n",
    "# To do this I just need to calculate the \"merging\" of this possible topological orders as I do in the dynamic approach. \n"
   ]
  },
  {
   "cell_type": "markdown",
   "metadata": {},
   "source": [
    "## Examples"
   ]
  },
  {
   "cell_type": "markdown",
   "metadata": {},
   "source": [
    "#### Testing functions"
   ]
  },
  {
   "cell_type": "code",
   "execution_count": 10,
   "metadata": {},
   "outputs": [],
   "source": [
    "def assertEquivalenceClassesForNode(dag: nx.DiGraph, feature_node, all_topo_sorts: List[List[Any]], timing_dict: Dict[str, Dict[str, float]]):\n",
    "    \n",
    "    nodes_classification = {}\n",
    "    unr_roots = classifyNodes(dag, feature_node, nodes_classification)\n",
    "    hasher = TopoSortHasher(nodes_classification)\n",
    "\n",
    "    # Naive approach\n",
    "    start_time = time.time()\n",
    "    naiveClassesSizes = naiveEquivalenceClassesSizes(all_topo_sorts, nodes_classification, feature_node, hasher)\n",
    "    end_time = time.time()\n",
    "    timing_dict[feature_node]['naiveEquivalenceClassesSizes'] = end_time - start_time\n",
    "\n",
    "    # Recursive approach\n",
    "    start_time = time.time()\n",
    "    recursiveClassesSizes = recursiveEquivalenceClassesSizes(dag, unr_roots, hasher, feature_node)\n",
    "    end_time = time.time()\n",
    "    timing_dict[feature_node]['equivalenceClassesSizes'] = end_time - start_time\n",
    "\n",
    "    # Assert that each equivalence class has the same number of elements.\n",
    "    for eqClassHash in naiveClassesSizes.keys():\n",
    "        clSize1 = naiveClassesSizes[eqClassHash][1]\n",
    "        clTopo1 = naiveClassesSizes[eqClassHash][0]\n",
    "        clSize2 = recursiveClassesSizes[eqClassHash][1]\n",
    "        clTopo2 = recursiveClassesSizes[eqClassHash][0]\n",
    "        if (clSize1 != clSize2):\n",
    "            raise AssertionError(f\"The sizes of the equivalence classes are not equal. \\n Cl1: Topo {clTopo1}, Size {clSize1} \\n Cl2: Topo {clTopo2}, Size {clSize2}\")\n",
    "\n",
    "def assertEquivClassesForDag(dag: nx.DiGraph) -> Dict[str, float]:\n",
    "    timing_dict = {}\n",
    "    \n",
    "    # Measure time for all topological sorts\n",
    "    start_time = time.time()\n",
    "    all_topo_sorts = list(nx.all_topological_sorts(dag))\n",
    "    end_time = time.time()\n",
    "    timing_dict['all_topological_sorts'] = end_time - start_time\n",
    "    \n",
    "    for node in list(dag.nodes):\n",
    "        timing_dict[node] = {}\n",
    "        assertEquivalenceClassesForNode(dag, node, all_topo_sorts, timing_dict)\n",
    "    \n",
    "    return timing_dict"
   ]
  },
  {
   "cell_type": "markdown",
   "metadata": {},
   "source": [
    "### Empty graph example"
   ]
  },
  {
   "cell_type": "code",
   "execution_count": 11,
   "metadata": {},
   "outputs": [],
   "source": [
    "dag = nx.DiGraph()\n",
    "nodes = [i for i in range(7)]\n",
    "dag.add_nodes_from(nodes)\n",
    "\n",
    "\n",
    "res = assertEquivClassesForDag(dag)"
   ]
  },
  {
   "cell_type": "markdown",
   "metadata": {},
   "source": [
    "### Naive Bayes Example"
   ]
  },
  {
   "cell_type": "code",
   "execution_count": 16,
   "metadata": {},
   "outputs": [],
   "source": [
    "naive_bayes = nx.DiGraph()\n",
    "nodes = [i for i in range(7)]\n",
    "naive_bayes.add_nodes_from(nodes)\n",
    "root = list(naive_bayes.nodes)[0]\n",
    "for node in nodes:\n",
    "    if node != root:\n",
    "        naive_bayes.add_edge(root, node)\n",
    "\n",
    "res = assertEquivClassesForDag(naive_bayes)"
   ]
  }
 ],
 "metadata": {
  "kernelspec": {
   "display_name": "Python 3",
   "language": "python",
   "name": "python3"
  },
  "language_info": {
   "codemirror_mode": {
    "name": "ipython",
    "version": 3
   },
   "file_extension": ".py",
   "mimetype": "text/x-python",
   "name": "python",
   "nbconvert_exporter": "python",
   "pygments_lexer": "ipython3",
   "version": "3.10.12"
  }
 },
 "nbformat": 4,
 "nbformat_minor": 2
}
