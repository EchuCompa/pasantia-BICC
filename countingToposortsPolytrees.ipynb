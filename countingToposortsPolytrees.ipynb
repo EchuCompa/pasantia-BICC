{
 "cells": [
  {
   "cell_type": "markdown",
   "metadata": {},
   "source": [
    "##### Imports"
   ]
  },
  {
   "cell_type": "code",
   "execution_count": 1,
   "metadata": {},
   "outputs": [],
   "source": [
    "import sys, os\n",
    "from asvFormula.digraph import *\n",
    "from asvFormula.classesSizes.algorithmTime import *\n",
    "\n",
    "import pandas as pd"
   ]
  },
  {
   "cell_type": "code",
   "execution_count": 4,
   "metadata": {},
   "outputs": [],
   "source": [
    "from importlib import reload \n",
    "import asvFormula\n",
    "import asvFormula.topoSorts.topoSorts as tp\n",
    "import asvFormula.testingFunctions as tst\n",
    "\n",
    "tp = reload(asvFormula.topoSorts.topoSorts)\n",
    "tst = reload(asvFormula.testingFunctions)"
   ]
  },
  {
   "cell_type": "markdown",
   "metadata": {},
   "source": [
    "### Positions of node in toposorts\n"
   ]
  },
  {
   "cell_type": "code",
   "execution_count": 12,
   "metadata": {},
   "outputs": [
    {
     "ename": "TypeError",
     "evalue": "test_allToposPositions() takes 2 positional arguments but 3 were given",
     "output_type": "error",
     "traceback": [
      "\u001b[0;31m---------------------------------------------------------------------------\u001b[0m",
      "\u001b[0;31mTypeError\u001b[0m                                 Traceback (most recent call last)",
      "Cell \u001b[0;32mIn[12], line 9\u001b[0m\n\u001b[1;32m      7\u001b[0m allTopos \u001b[38;5;241m=\u001b[39m \u001b[38;5;28mlist\u001b[39m(nx\u001b[38;5;241m.\u001b[39mall_topological_sorts(treeTest1))\n\u001b[1;32m      8\u001b[0m \u001b[38;5;28;01mwhile\u001b[39;00m \u001b[38;5;28;01mTrue\u001b[39;00m:\n\u001b[0;32m----> 9\u001b[0m     \u001b[43mtst\u001b[49m\u001b[38;5;241;43m.\u001b[39;49m\u001b[43mtest_allToposPositions\u001b[49m\u001b[43m(\u001b[49m\u001b[43mactualPathNode\u001b[49m\u001b[43m,\u001b[49m\u001b[43m \u001b[49m\u001b[43mtreeTest1\u001b[49m\u001b[43m,\u001b[49m\u001b[43m \u001b[49m\u001b[43mallTopos\u001b[49m\u001b[43m)\u001b[49m\n\u001b[1;32m     10\u001b[0m     \u001b[38;5;28;01mif\u001b[39;00m isLeaf(actualPathNode, treeTest1):\n\u001b[1;32m     11\u001b[0m         \u001b[38;5;28;01mbreak\u001b[39;00m\n",
      "\u001b[0;31mTypeError\u001b[0m: test_allToposPositions() takes 2 positional arguments but 3 were given"
     ]
    }
   ],
   "source": [
    "numLevels = 3\n",
    "branchingFactor = 3\n",
    "\n",
    "treeTest1 = balancedTree(numLevels, branchingFactor)\n",
    "\n",
    "actualPathNode = 0 #The root\n",
    "allTopos = list(nx.all_topological_sorts(treeTest1))\n",
    "while True:\n",
    "    tst.test_allToposPositions(actualPathNode, treeTest1, allTopos)\n",
    "    if isLeaf(actualPathNode, treeTest1):\n",
    "        break\n",
    "    actualPathNode = next(treeTest1.successors(actualPathNode))\n",
    "    print(actualPathNode)\n",
    "    \n",
    "\n",
    "\n",
    "# It takes 8 minutes to run. Most of the time is spent calculating the topological sorts and iterating over them"
   ]
  },
  {
   "cell_type": "code",
   "execution_count": 10,
   "metadata": {},
   "outputs": [],
   "source": [
    "allTopos = list(nx.all_topological_sorts(treeTest1))"
   ]
  },
  {
   "cell_type": "markdown",
   "metadata": {},
   "source": [
    "### Toposorts of a polytree\n"
   ]
  },
  {
   "cell_type": "code",
   "execution_count": 11,
   "metadata": {},
   "outputs": [
    {
     "data": {
      "image/png": "[encoded data removed]",
      "text/plain": [
       "<Figure size 640x480 with 1 Axes>"
      ]
     },
     "metadata": {},
     "output_type": "display_data"
    }
   ],
   "source": [
    "numLevels = 2\n",
    "branchingFactor = 2\n",
    "\n",
    "treeTest1 = balancedTree(numLevels, branchingFactor)\n",
    "treeTest2 = balancedTree(numLevels, branchingFactor)\n",
    "\n",
    "union = nx.union(treeTest1, treeTest2, rename=('1-', '2-'))\n",
    "union.add_edge('1-0', '2-1')\n",
    "drawGraph(union)\n",
    "\n"
   ]
  }
 ],
 "metadata": {
  "kernelspec": {
   "display_name": "Python 3",
   "language": "python",
   "name": "python3"
  },
  "language_info": {
   "codemirror_mode": {
    "name": "ipython",
    "version": 3
   },
   "file_extension": ".py",
   "mimetype": "text/x-python",
   "name": "python",
   "nbconvert_exporter": "python",
   "pygments_lexer": "ipython3",
   "version": "3.10.12"
  }
 },
 "nbformat": 4,
 "nbformat_minor": 2
}
