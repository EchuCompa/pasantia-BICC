{
 "cells": [
  {
   "cell_type": "markdown",
   "metadata": {},
   "source": [
    "##### Imports"
   ]
  },
  {
   "cell_type": "code",
   "execution_count": 3,
   "metadata": {},
   "outputs": [],
   "source": [
    "import sys, os\n",
    "from asvFormula.digraph import *\n",
    "from asvFormula.classesSizes.algorithmTime import *\n",
    "\n",
    "from importlib import reload \n",
    "import asvFormula\n",
    "import asvFormula.topoSorts.topoSortsCalc as tp\n",
    "import asvFormula.topoSorts.toposPositions as pos\n",
    "import asvFormula.testingFunctions as tst\n",
    "\n",
    "\n",
    "tp = reload(asvFormula.topoSorts.topoSortsCalc)\n",
    "pos = reload(asvFormula.topoSorts.toposPositions)\n",
    "tst = reload(asvFormula.testingFunctions)"
   ]
  },
  {
   "cell_type": "markdown",
   "metadata": {},
   "source": [
    "#### Debuggin utils"
   ]
  },
  {
   "cell_type": "code",
   "execution_count": 4,
   "metadata": {},
   "outputs": [],
   "source": [
    "import itertools\n",
    "\n",
    "parentNodes = ['11', '21', '30']\n",
    "\n",
    "def classifyNodesByOrderAndIndexes(parentNodes):\n",
    "    allTopos = list(nx.all_topological_sorts(union))\n",
    "    copyUnion = union.copy()\n",
    "\n",
    "    #This is to identify each node with it's tree\n",
    "    tp.removeMultipleParents(copyUnion)\n",
    "    roots = [node for node in copyUnion.nodes() if isRoot(node, copyUnion)]\n",
    "    for root in roots: \n",
    "        tp.addRootInfo(root, copyUnion)\n",
    "    treePerNode = {node: copyUnion.nodes[node]['root'] for node in copyUnion.nodes()}\n",
    "\n",
    "    permutations = list(itertools.permutations(parentNodes))\n",
    "    toposPermutations = {}\n",
    "\n",
    "    for topo in allTopos:\n",
    "        for perm in permutations:\n",
    "            indexes = [topo.index(node) for node in perm]\n",
    "            if  indexes == sorted(indexes):\n",
    "                nodesPerTree = {tree: [node for node in topo if treePerNode[node] == tree] for tree in set(treePerNode.values())}\n",
    "                permIndexInTree = [nodesPerTree[treePerNode[node]].index(node) for node in perm]\n",
    "                key = f'Permutation: {perm}, Indexes: {permIndexInTree}'\n",
    "                toposPermutations[key] = toposPermutations.get(key, 0) + 1\n",
    "\n",
    "    return toposPermutations\n",
    "\n",
    "# This can be used to check if mergeConnectedTrees is working correctly\n",
    "\n",
    "def pathToLeaf(tree : nx.DiGraph, start_node):\n",
    "    path = [start_node]\n",
    "    current = start_node\n",
    "    while not isLeaf(current, tree):\n",
    "        current = next(tree.successors(current))\n",
    "        path.append(current)\n",
    "    return path"
   ]
  },
  {
   "cell_type": "markdown",
   "metadata": {},
   "source": [
    "## Positions of node in toposorts of tree\n"
   ]
  },
  {
   "cell_type": "code",
   "execution_count": 5,
   "metadata": {},
   "outputs": [],
   "source": [
    "numLevels = 3\n",
    "branchingFactor = 3\n",
    "\n",
    "treeTest = balancedTree(numLevels, branchingFactor)\n",
    "\n",
    "middleTree = pathToLeaf(treeTest, 0)\n",
    "#allTopos = list(nx.all_topological_sorts(treeTest))\n",
    "#tst.test_allToposPositions(middleTree, treeTest, allTopos)\n",
    "\n",
    "# It takes 8 minutes to run. Most of the time is spent calculating all the topological sorts and iterating over them"
   ]
  },
  {
   "cell_type": "markdown",
   "metadata": {},
   "source": [
    "## Toposorts of a polytree\n"
   ]
  },
  {
   "cell_type": "markdown",
   "metadata": {},
   "source": [
    "### Polytree with one intersection\n"
   ]
  },
  {
   "cell_type": "markdown",
   "metadata": {},
   "source": [
    "#### Leafs to root\n"
   ]
  },
  {
   "cell_type": "code",
   "execution_count": 6,
   "metadata": {},
   "outputs": [],
   "source": [
    "numLevels = 2\n",
    "branchingFactor = 3\n",
    "\n",
    "leftTree = balancedTree(numLevels, branchingFactor)\n",
    "rigthTree = balancedTree(numLevels, branchingFactor)\n",
    "middleTree = balancedTree(numLevels, branchingFactor)\n",
    "\n",
    "union = nx.union(leftTree, rigthTree, rename=('1-', '2-'))\n",
    "union = nx.union(union, middleTree, rename=('', '3-'))\n",
    "\n",
    "#Connect the trees to the middle one\n",
    "union.add_edge('1-2', '3-0')\n",
    "union.add_edge('2-1', '3-0')\n",
    "#drawGraph(union)\n",
    "tst.test_allPolyTopos(union)\n"
   ]
  },
  {
   "cell_type": "markdown",
   "metadata": {},
   "source": [
    "#### Roots to leaf\n"
   ]
  },
  {
   "cell_type": "code",
   "execution_count": 7,
   "metadata": {},
   "outputs": [],
   "source": [
    "numLevels = 4\n",
    "branchingFactor = 1\n",
    "\n",
    "leftTree = balancedTree(numLevels, branchingFactor)\n",
    "rigthTree = balancedTree(numLevels, branchingFactor)\n",
    "middleTree = balancedTree(numLevels, branchingFactor)\n",
    "\n",
    "union = nx.union(leftTree, rigthTree, rename=('1-', '2-'))\n",
    "union = nx.union(union, middleTree, rename=('', '3-'))\n",
    "\n",
    "#Connect the trees to the middle one\n",
    "union.add_edge('1-2', '3-3')\n",
    "union.add_edge('2-2', '3-3')\n",
    "#drawGraph(union)\n",
    "tst.test_allPolyTopos(union)\n"
   ]
  },
  {
   "cell_type": "markdown",
   "metadata": {},
   "source": [
    "#### Nodes to nodes\n"
   ]
  },
  {
   "cell_type": "code",
   "execution_count": 8,
   "metadata": {},
   "outputs": [],
   "source": [
    "numLevels = 4\n",
    "branchingFactor = 1\n",
    "\n",
    "leftTree = balancedTree(numLevels, branchingFactor)\n",
    "rigthTree = balancedTree(numLevels, branchingFactor)\n",
    "middleTree = balancedTree(numLevels, branchingFactor)\n",
    "\n",
    "union = nx.union(leftTree, rigthTree, rename=('1-', '2-'))\n",
    "union = nx.union(union, middleTree, rename=('', '3-'))\n",
    "\n",
    "#Connect the trees to the middle one\n",
    "union.add_edge('1-2', '3-2')\n",
    "union.add_edge('2-2', '3-2')\n",
    "#drawGraph(union)\n",
    "tst.test_allPolyTopos(union)\n"
   ]
  },
  {
   "cell_type": "markdown",
   "metadata": {},
   "source": [
    "#### Intersection with more than 2 parents\n"
   ]
  },
  {
   "cell_type": "code",
   "execution_count": 19,
   "metadata": {},
   "outputs": [
    {
     "data": {
      "image/png": "[encoded data removed]",
      "text/plain": [
       "<Figure size 640x480 with 1 Axes>"
      ]
     },
     "metadata": {},
     "output_type": "display_data"
    }
   ],
   "source": [
    "numLevels = 2\n",
    "branchingFactor = 2\n",
    "parents = 4\n",
    "\n",
    "union = nx.DiGraph()\n",
    "for i in range(parents):\n",
    "    tree = balancedTree(numLevels, branchingFactor)\n",
    "    union = nx.union(tree, union, rename=(f'{i}-', ''))\n",
    "\n",
    "for i in range(parents-1):\n",
    "    union.add_edge(f'{i}-1', f'{parents-1}-1')\n",
    "drawGraph(union)\n",
    "#tst.test_allPolyTopos(union)\n",
    "\n",
    "#It takes 28 seconds to run. Most of the time is spent calculating all the topological sorts and iterating over them\n"
   ]
  },
  {
   "cell_type": "markdown",
   "metadata": {},
   "source": [
    "### Polytree with two intersections\n"
   ]
  },
  {
   "cell_type": "markdown",
   "metadata": {},
   "source": [
    "#### Nodes to nodes\n"
   ]
  },
  {
   "cell_type": "code",
   "execution_count": 9,
   "metadata": {},
   "outputs": [],
   "source": [
    "numLevels = 4\n",
    "branchingFactor = 1\n",
    "\n",
    "leftTree = balancedTree(numLevels, branchingFactor)\n",
    "rigthTree = balancedTree(numLevels, branchingFactor)\n",
    "middleTree = balancedTree(numLevels, branchingFactor)\n",
    "\n",
    "union = nx.union(leftTree, rigthTree, rename=('1-', '2-'))\n",
    "union = nx.union(union, middleTree, rename=('', '3-'))\n",
    "\n",
    "#Connect the trees to the middle one\n",
    "union.add_edge('1-2', '3-2')\n",
    "union.add_edge('2-2', '3-2')\n",
    "#drawGraph(union)\n",
    "tst.test_allPolyTopos(union)\n"
   ]
  }
 ],
 "metadata": {
  "kernelspec": {
   "display_name": "Python 3",
   "language": "python",
   "name": "python3"
  },
  "language_info": {
   "codemirror_mode": {
    "name": "ipython",
    "version": 3
   },
   "file_extension": ".py",
   "mimetype": "text/x-python",
   "name": "python",
   "nbconvert_exporter": "python",
   "pygments_lexer": "ipython3",
   "version": "3.10.12"
  }
 },
 "nbformat": 4,
 "nbformat_minor": 2
}
