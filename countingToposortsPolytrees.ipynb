{
 "cells": [
  {
   "cell_type": "markdown",
   "metadata": {},
   "source": [
    "##### Imports"
   ]
  },
  {
   "cell_type": "code",
   "execution_count": 1,
   "metadata": {},
   "outputs": [],
   "source": [
    "import sys, os\n",
    "from asvFormula.digraph import *\n",
    "from asvFormula.classesSizes.algorithmTime import *\n",
    "\n",
    "from importlib import reload \n",
    "import asvFormula\n",
    "import asvFormula.topoSorts.topoSortsCalc as tp\n",
    "import asvFormula.topoSorts.toposPositions as pos\n",
    "import asvFormula.testingFunctions as tst\n",
    "\n",
    "\n",
    "tp = reload(asvFormula.topoSorts.topoSortsCalc)\n",
    "pos = reload(asvFormula.topoSorts.toposPositions)\n",
    "tst = reload(asvFormula.testingFunctions)"
   ]
  },
  {
   "cell_type": "code",
   "execution_count": 2,
   "metadata": {},
   "outputs": [],
   "source": [
    "def pathToLeaf(tree : nx.DiGraph, start_node):\n",
    "    path = [start_node]\n",
    "    current = start_node\n",
    "    while not isLeaf(current, tree):\n",
    "        current = next(tree.successors(current))\n",
    "        path.append(current)\n",
    "    return path"
   ]
  },
  {
   "cell_type": "markdown",
   "metadata": {},
   "source": [
    "### Positions of node in toposorts\n"
   ]
  },
  {
   "cell_type": "code",
   "execution_count": 3,
   "metadata": {},
   "outputs": [],
   "source": [
    "numLevels = 3\n",
    "branchingFactor = 3\n",
    "\n",
    "treeTest = balancedTree(numLevels, branchingFactor)\n",
    "\n",
    "middleTree = pathToLeaf(treeTest, 0)\n",
    "#allTopos = list(nx.all_topological_sorts(treeTest))\n",
    "#tst.test_allToposPositions(middleTree, treeTest, allTopos)\n",
    "\n",
    "# It takes 8 minutes to run. Most of the time is spent calculating all the topological sorts and iterating over them"
   ]
  },
  {
   "cell_type": "markdown",
   "metadata": {},
   "source": [
    "### Toposorts of a polytree\n"
   ]
  },
  {
   "cell_type": "markdown",
   "metadata": {},
   "source": [
    "#### Polytree with one intersection\n"
   ]
  },
  {
   "cell_type": "code",
   "execution_count": null,
   "metadata": {},
   "outputs": [],
   "source": [
    "numLevels = 2\n",
    "branchingFactor = 2\n",
    "\n",
    "leftTree = balancedTree(numLevels, branchingFactor)\n",
    "rigthTree = balancedTree(numLevels, branchingFactor)\n",
    "middleTree = balancedTree(numLevels, branchingFactor)\n",
    "\n",
    "union = nx.union(leftTree, rigthTree, rename=('1-', '2-'))\n",
    "union = nx.union(union, middleTree, rename=('', '3-'))\n",
    "\n",
    "#Connect the trees to the middle one\n",
    "union.add_edge('1-2', '3-0')\n",
    "union.add_edge('2-1', '3-0')\n",
    "#drawGraph(union)\n",
    "tst.test_allPolyTopos(union)\n",
    "\n"
   ]
  },
  {
   "cell_type": "code",
   "execution_count": null,
   "metadata": {},
   "outputs": [],
   "source": [
    "numLevels = 2\n",
    "branchingFactor = 2\n",
    "\n",
    "leftTree = balancedTree(numLevels, 1)\n",
    "rigthTree = balancedTree(numLevels, 2)\n",
    "middleTree = balancedTree(1, branchingFactor)\n",
    "\n",
    "union = nx.union(leftTree, rigthTree, rename=('1', '2'))\n",
    "union = nx.union(union, middleTree, rename=('', '3'))\n",
    "\n",
    "#Connect the trees to the middle one\n",
    "union.add_edge('11', '30')\n",
    "union.add_edge('21', '30')\n",
    "drawGraph(union)\n",
    "tst.test_allPolyTopos(union)\n",
    "\n"
   ]
  },
  {
   "cell_type": "code",
   "execution_count": 31,
   "metadata": {},
   "outputs": [
    {
     "data": {
      "text/plain": [
       "{('21', '11', '30'): 14, ('11', '21', '30'): 12}"
      ]
     },
     "execution_count": 31,
     "metadata": {},
     "output_type": "execute_result"
    }
   ],
   "source": [
    "import itertools\n",
    "# I want to classify the topological sorts depending on the order of some nodes\n",
    "\n",
    "parentNodes = ['11', '21', '30']\n",
    "\n",
    "def classifyNodesByOrder(parentNodes):\n",
    "    allTopos = list(nx.all_topological_sorts(union))\n",
    "    permutations = list(itertools.permutations(parentNodes))\n",
    "    toposPermutations = {}\n",
    "\n",
    "    for topo in allTopos:\n",
    "        for perm in permutations:\n",
    "            if [topo.index(node) for node in perm] == sorted([topo.index(node) for node in perm]):\n",
    "                toposPermutations[perm] = toposPermutations.get(perm, 0) + 1\n",
    "\n",
    "    return toposPermutations\n",
    "\n",
    "classifyNodesByOrder(parentNodes)\n"
   ]
  }
 ],
 "metadata": {
  "kernelspec": {
   "display_name": "Python 3",
   "language": "python",
   "name": "python3"
  },
  "language_info": {
   "codemirror_mode": {
    "name": "ipython",
    "version": 3
   },
   "file_extension": ".py",
   "mimetype": "text/x-python",
   "name": "python",
   "nbconvert_exporter": "python",
   "pygments_lexer": "ipython3",
   "version": "3.10.12"
  }
 },
 "nbformat": 4,
 "nbformat_minor": 2
}
