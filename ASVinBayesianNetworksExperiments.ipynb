{
 "cells": [
  {
   "cell_type": "markdown",
   "metadata": {},
   "source": [
    "##### Imports"
   ]
  },
  {
   "cell_type": "code",
   "execution_count": 6,
   "metadata": {},
   "outputs": [],
   "source": [
    "import asvFormula.bayesianNetworks.bayesianNetwork as bn\n",
    "from asvFormula.bayesianNetworks import networkSamplesPath\n",
    "from asvFormula import asvRunResultsPath\n",
    "from asvFormula.datasetManipulation import *\n",
    "import asvFormula.exactASV as exact\n",
    "from asvFormula.classesSizes.digraph import hasUnderlyingTree\n",
    "from pgmpy.readwrite import BIFReader\n",
    "from pgmpy.inference import VariableElimination\n",
    "import numpy as np\n",
    "\n",
    "#TODO: I should add classes and assign responsibilities to them. All of the functions are mixed and I have multiple variables flying. \n",
    "    # Feature values could be a class.\n",
    "#TODO: Fix the seed and the random so that I can reproduce the results. Right now it's not changing anything the seed method. "
   ]
  },
  {
   "cell_type": "code",
   "execution_count": 7,
   "metadata": {},
   "outputs": [],
   "source": [
    "from importlib import reload \n",
    "import asvFormula\n",
    "import asvFormula.bayesianNetworks.bayesianNetwork as bn\n",
    "import asvFormula.exactASV as exact\n",
    "\n",
    "bn = reload(asvFormula.bayesianNetworks.bayesianNetwork)\n",
    "exact = reload(asvFormula.exactASV)\n"
   ]
  },
  {
   "cell_type": "markdown",
   "metadata": {},
   "source": [
    "### Running ASV for Cancer bayesian network"
   ]
  },
  {
   "cell_type": "markdown",
   "metadata": {},
   "source": [
    "#### Train the decision tree model"
   ]
  },
  {
   "cell_type": "code",
   "execution_count": 8,
   "metadata": {},
   "outputs": [
    {
     "data": {
      "application/vnd.jupyter.widget-view+json": {
       "model_id": "58989337f1ef4d13b2f6447dcd2d0f9b",
       "version_major": 2,
       "version_minor": 0
      },
      "text/plain": [
       "  0%|          | 0/5 [00:00<?, ?it/s]"
      ]
     },
     "metadata": {},
     "output_type": "display_data"
    },
    {
     "name": "stdout",
     "output_type": "stream",
     "text": [
      "The model accuracy is : 0.865\n"
     ]
    }
   ],
   "source": [
    "cancerNetworkPath = networkSamplesPath + \"/cancer.bif\"\n",
    "BNmodel = BIFReader(cancerNetworkPath).get_model()\n",
    "variableToPredict = \"Pollution\"\n",
    "numberOfSamples = 2000\n",
    "treeMaxDepth = 5\n",
    "\n",
    "BNInference, valuesPerFeature, encodedDataset, dtTreeClassifier, dtAsNetwork = initializeDataAndRemoveVariable(BNmodel, variableToPredict, numberOfSamples, treeMaxDepth)"
   ]
  },
  {
   "cell_type": "code",
   "execution_count": null,
   "metadata": {},
   "outputs": [],
   "source": [
    "#drawDecisionTree(dtAsNetwork)"
   ]
  },
  {
   "cell_type": "markdown",
   "metadata": {},
   "source": [
    "#### Compute the ASV vs the Shapley Value"
   ]
  },
  {
   "cell_type": "code",
   "execution_count": 10,
   "metadata": {},
   "outputs": [],
   "source": [
    "asvCalc = exact.ASV(BNmodel, dtTreeClassifier, BNInference, valuesPerFeature, variableToPredict, predictionFunction='Mean')\n",
    "\n",
    "dataNoPrediction = encodedDataset.drop(variableToPredict, axis=1)\n",
    "first_instance = dataNoPrediction.iloc[0]\n",
    "\n",
    "#showASVandShapleyFor(first_instance, list(dataNoPrediction.columns), dtTreeClassifier, asvCalc)\n",
    "exact.writeASVAndShapleyIntoFile(first_instance, list(dataNoPrediction.columns), dtTreeClassifier, asvCalc, asvRunResultsPath + \"/cancerASVAndShapleyMean.csv\", valuesPerFeature, variableToPredict)"
   ]
  },
  {
   "cell_type": "code",
   "execution_count": 11,
   "metadata": {},
   "outputs": [],
   "source": [
    "asvCalc = exact.ASV(BNmodel, dtTreeClassifier, BNInference, valuesPerFeature, variableToPredict, predictionFunction = 'Exact')\n",
    "\n",
    "dataNoPrediction = encodedDataset.drop(variableToPredict, axis=1)\n",
    "first_instance = dataNoPrediction.iloc[0]\n",
    "\n",
    "#showASVandShapleyFor(first_instance, list(dataNoPrediction.columns), dtTreeClassifier, asvCalc)\n",
    "exact.writeASVAndShapleyIntoFile(first_instance, list(dataNoPrediction.columns), dtTreeClassifier, asvCalc, asvRunResultsPath + \"/cancerASVAndShapleyExact.csv\", valuesPerFeature, variableToPredict)"
   ]
  },
  {
   "cell_type": "markdown",
   "metadata": {},
   "source": [
    "#### Mean prediction of model"
   ]
  },
  {
   "cell_type": "code",
   "execution_count": 12,
   "metadata": {},
   "outputs": [],
   "source": [
    "# Use the complete bayesian network to calculate the mean prediction\n",
    "completeBNModel = BIFReader(cancerNetworkPath).get_model()\n",
    "completeBNInference = VariableElimination(completeBNModel)"
   ]
  },
  {
   "cell_type": "code",
   "execution_count": 13,
   "metadata": {},
   "outputs": [
    {
     "name": "stdout",
     "output_type": "stream",
     "text": [
      "Mean prediction of model for the variable Pollution\n",
      "Mean prediction value for the model: 0.9004282318123802\n",
      "Estimated value for shap explainer: 0.90125\n",
      "Mean prediction if we only use the bayesian network: 0.9\n"
     ]
    }
   ],
   "source": [
    "bn.showMeanPredictionOfModel(variableToPredict, completeBNInference, valuesPerFeature, dtTreeClassifier)"
   ]
  },
  {
   "cell_type": "markdown",
   "metadata": {},
   "source": [
    "### Running ASV for Child bayesian network"
   ]
  },
  {
   "cell_type": "code",
   "execution_count": 14,
   "metadata": {},
   "outputs": [
    {
     "data": {
      "application/vnd.jupyter.widget-view+json": {
       "model_id": "9b1aded4f85c4836a0fb4dfde9a15937",
       "version_major": 2,
       "version_minor": 0
      },
      "text/plain": [
       "  0%|          | 0/20 [00:00<?, ?it/s]"
      ]
     },
     "metadata": {},
     "output_type": "display_data"
    },
    {
     "name": "stderr",
     "output_type": "stream",
     "text": [
      "WARNING:pgmpy:Probability values don't exactly sum to 1. Differ by: -2.220446049250313e-16. Adjusting values.\n",
      "WARNING:pgmpy:Probability values don't exactly sum to 1. Differ by: 3.3306690738754696e-16. Adjusting values.\n"
     ]
    },
    {
     "name": "stdout",
     "output_type": "stream",
     "text": [
      "The model accuracy is : 0.685\n"
     ]
    }
   ],
   "source": [
    "childNetworkPath = networkSamplesPath + \"/child.bif\"\n",
    "\n",
    "def childBNAsTree(childNetworkPath):\n",
    "    treeBNChild = BIFReader(childNetworkPath).get_model()\n",
    "\n",
    "    #I remove this edges so that it is a tree and we can work with it\n",
    "    removeEdgeAndMarginalizeCPD(treeBNChild, 'LungParench', 'Grunting')\n",
    "    removeEdgeAndMarginalizeCPD(treeBNChild, 'LungParench', 'HypoxiaInO2')\n",
    "    removeEdgeAndMarginalizeCPD(treeBNChild, 'HypoxiaInO2', 'LowerBodyO2')\n",
    "    removeEdgeAndMarginalizeCPD(treeBNChild, 'CardiacMixing', 'HypDistrib')\n",
    "    removeEdgeAndMarginalizeCPD(treeBNChild, 'Sick', 'Age')\n",
    "    removeEdgeAndMarginalizeCPD(treeBNChild, 'LungFlow', 'ChestXray')\n",
    "\n",
    "    assert hasUnderlyingTree(treeBNChild)\n",
    "    return treeBNChild\n",
    "\n",
    "treeBNChild = childBNAsTree(childNetworkPath)\n",
    "variableToPredict = \"Age\"\n",
    "numberOfSamples = 2000\n",
    "treeMaxDepth = 4\n",
    "\n",
    "BNInference, valuesPerFeature, encodedDataset, dtTreeClassifier, dtAsNetwork = initializeDataAndRemoveVariable(treeBNChild, variableToPredict, numberOfSamples, treeMaxDepth)\n"
   ]
  },
  {
   "cell_type": "markdown",
   "metadata": {},
   "source": [
    "#### ASV + Shapley"
   ]
  },
  {
   "cell_type": "code",
   "execution_count": 15,
   "metadata": {},
   "outputs": [],
   "source": [
    "asvCalc = exact.ASV(treeBNChild, dtTreeClassifier, BNInference, valuesPerFeature, variableToPredict, predictionFunction = 'Mean')\n",
    "\n",
    "dataNoPrediction = encodedDataset.drop(variableToPredict, axis=1)\n",
    "first_instance = dataNoPrediction.iloc[0]\n",
    "\n",
    "#showASVandShapleyFor(first_instance, list(dataNoPrediction.columns), dtTreeClassifier, asvCalc)\n",
    "exact.writeASVAndShapleyIntoFile(first_instance, list(dataNoPrediction.columns), dtTreeClassifier, asvCalc, asvRunResultsPath + \"/childASVAndShapleyMean.csv\", valuesPerFeature, variableToPredict)"
   ]
  },
  {
   "cell_type": "code",
   "execution_count": 16,
   "metadata": {},
   "outputs": [],
   "source": [
    "asvCalc = exact.ASV(treeBNChild, dtTreeClassifier, BNInference, valuesPerFeature, variableToPredict, predictionFunction='Exact')\n",
    "\n",
    "dataNoPrediction = encodedDataset.drop(variableToPredict, axis=1)\n",
    "first_instance = dataNoPrediction.iloc[0]\n",
    "\n",
    "#showASVandShapleyFor(first_instance, list(dataNoPrediction.columns), dtTreeClassifier, asvCalc)\n",
    "exact.writeASVAndShapleyIntoFile(first_instance, list(dataNoPrediction.columns), dtTreeClassifier, asvCalc, asvRunResultsPath + \"/childASVAndShapleyExact.csv\", valuesPerFeature, variableToPredict)"
   ]
  },
  {
   "cell_type": "markdown",
   "metadata": {},
   "source": [
    "#### Mean Prediction"
   ]
  },
  {
   "cell_type": "code",
   "execution_count": 17,
   "metadata": {},
   "outputs": [],
   "source": [
    "# Use the complete bayesian network to calculate the mean prediction\n",
    "completeBNModel = BIFReader(childNetworkPath).get_model()\n",
    "completeBNInference = VariableElimination(completeBNModel)"
   ]
  },
  {
   "cell_type": "code",
   "execution_count": 18,
   "metadata": {},
   "outputs": [
    {
     "name": "stdout",
     "output_type": "stream",
     "text": [
      "Mean prediction of model for the variable Age\n",
      "Mean prediction value for the model: 0.44364545005865785\n",
      "Estimated value for shap explainer: 0.44999999999999996\n",
      "Mean prediction if we only use the bayesian network: 0.5305312260310001\n"
     ]
    }
   ],
   "source": [
    "bn.showMeanPredictionOfModel(variableToPredict, completeBNInference, valuesPerFeature, dtTreeClassifier)"
   ]
  },
  {
   "cell_type": "code",
   "execution_count": null,
   "metadata": {},
   "outputs": [],
   "source": [
    "dtAsNetwork = bn.obtainDecisionTreeDigraph(dtTreeClassifier, dataNoPrediction.columns)\n",
    "#bn.drawDecisionTree(dtAsNetwork)\n",
    "#bn.drawGraph(treeBNChild)"
   ]
  }
 ],
 "metadata": {
  "kernelspec": {
   "display_name": "Python 3",
   "language": "python",
   "name": "python3"
  },
  "language_info": {
   "codemirror_mode": {
    "name": "ipython",
    "version": 3
   },
   "file_extension": ".py",
   "mimetype": "text/x-python",
   "name": "python",
   "nbconvert_exporter": "python",
   "pygments_lexer": "ipython3",
   "version": "3.10.12"
  }
 },
 "nbformat": 4,
 "nbformat_minor": 2
}
