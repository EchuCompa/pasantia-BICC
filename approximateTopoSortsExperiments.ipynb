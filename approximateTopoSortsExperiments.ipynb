{
 "cells": [
  {
   "cell_type": "markdown",
   "metadata": {},
   "source": [
    "##### Imports"
   ]
  },
  {
   "cell_type": "code",
   "execution_count": 9,
   "metadata": {},
   "outputs": [],
   "source": [
    "import sys, os\n",
    "from asvFormula.classesSizes.digraph import *\n",
    "from asvFormula.classesSizes.algorithmTime import *\n",
    "from asvFormula.classesSizes.testingFunctions import *\n",
    "import pandas as pd"
   ]
  },
  {
   "cell_type": "markdown",
   "metadata": {},
   "source": [
    "## Examples"
   ]
  },
  {
   "cell_type": "code",
   "execution_count": 10,
   "metadata": {},
   "outputs": [],
   "source": [
    "numNodes = 7\n",
    "\n",
    "emptyTestGraph = emptyGraph(numNodes)\n",
    "resEmptyGraph = assertEquivClassesForDag(emptyTestGraph)\n",
    "\n",
    "naiveBayesTest = naiveBayes(numNodes)\n",
    "resNaiveBayes = assertEquivClassesForDag(naiveBayesTest)\n",
    "\n",
    "lengthOfPath = 4\n",
    "naiveBayesWithPathTest = naiveBayesWithPath(numNodes, lengthOfPath)\n",
    "resNaiveBayesWithPath = assertEquivClassesForDag(naiveBayesWithPathTest)\n",
    "\n",
    "numberOfPaths = 3\n",
    "numNodes = 3\n",
    "multiplePathsTest = multiplePaths(numNodes, numberOfPaths)\n",
    "resMultiplePaths = assertEquivClassesForDag(multiplePathsTest)\n",
    "\n",
    "numLevels = 2\n",
    "branchingFactor = 3\n",
    "treeTest = balancedTree(numLevels, branchingFactor)\n",
    "resTree = assertEquivClassesForDag(treeTest)\n",
    "\n",
    "for graph in [emptyTestGraph, naiveBayesTest, naiveBayesWithPathTest, multiplePathsTest, treeTest]:\n",
    "    test_allTopos(graph)\n"
   ]
  },
  {
   "cell_type": "code",
   "execution_count": null,
   "metadata": {},
   "outputs": [],
   "source": []
  }
 ],
 "metadata": {
  "kernelspec": {
   "display_name": "Python 3",
   "language": "python",
   "name": "python3"
  },
  "language_info": {
   "codemirror_mode": {
    "name": "ipython",
    "version": 3
   },
   "file_extension": ".py",
   "mimetype": "text/x-python",
   "name": "python",
   "nbconvert_exporter": "python",
   "pygments_lexer": "ipython3",
   "version": "3.10.12"
  }
 },
 "nbformat": 4,
 "nbformat_minor": 2
}
