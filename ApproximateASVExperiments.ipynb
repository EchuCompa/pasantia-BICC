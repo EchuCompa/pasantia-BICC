{
 "cells": [
  {
   "cell_type": "markdown",
   "metadata": {},
   "source": [
    "##### Imports"
   ]
  },
  {
   "cell_type": "code",
   "execution_count": 2,
   "metadata": {},
   "outputs": [],
   "source": [
    "import asvFormula.bayesianNetworks.bayesianNetwork as bn\n",
    "import asvFormula.experiments as exp\n",
    "from asvFormula import asvRunResultsPath\n",
    "from asvFormula.datasetManipulation import *\n",
    "import asvFormula.ASV as exact\n",
    "import numpy as np\n",
    "import seaborn as sns\n",
    "import matplotlib.pyplot as plt\n",
    "import os\n",
    "\n",
    "cancerApproximateASVFile = asvRunResultsPath + \"/cancerASVAndShapleyApproximate.csv\"\n",
    "childApproximateASVFile = asvRunResultsPath + \"/childASVAndShapleyApproximate.csv\"\n",
    "\n",
    "cancerExactASVFile = asvRunResultsPath + \"/cancerASVAndShapleyExact.csv\"\n",
    "childExactASVFile = asvRunResultsPath + \"/childASVAndShapleyExact.csv\"\n",
    "\n",
    "seeds = [12,32,53,420,5]"
   ]
  },
  {
   "cell_type": "code",
   "execution_count": 2,
   "metadata": {},
   "outputs": [],
   "source": [
    "from importlib import reload \n",
    "import asvFormula\n",
    "import asvFormula.bayesianNetworks.bayesianNetwork as bn\n",
    "import asvFormula.ASV as exact\n",
    "import asvFormula.experiments as exp\n",
    "\n",
    "bn = reload(asvFormula.bayesianNetworks.bayesianNetwork)\n",
    "exact = reload(asvFormula.ASV)\n",
    "exp = reload(asvFormula.experiments)\n"
   ]
  },
  {
   "cell_type": "markdown",
   "metadata": {},
   "source": [
    "## Generating the results "
   ]
  },
  {
   "cell_type": "markdown",
   "metadata": {},
   "source": [
    "### Running ASV for Cancer bayesian network"
   ]
  },
  {
   "cell_type": "code",
   "execution_count": 7,
   "metadata": {},
   "outputs": [
    {
     "data": {
      "application/vnd.jupyter.widget-view+json": {
       "model_id": "5b294bb5f7f34b22b3deacf2370327f0",
       "version_major": 2,
       "version_minor": 0
      },
      "text/plain": [
       "  0%|          | 0/5 [00:00<?, ?it/s]"
      ]
     },
     "metadata": {},
     "output_type": "display_data"
    },
    {
     "name": "stdout",
     "output_type": "stream",
     "text": [
      "The model accuracy is : 0.8083333333333333\n"
     ]
    },
    {
     "data": {
      "application/vnd.jupyter.widget-view+json": {
       "model_id": "f591e736d452483a9336a2983e532a43",
       "version_major": 2,
       "version_minor": 0
      },
      "text/plain": [
       "  0%|          | 0/5 [00:00<?, ?it/s]"
      ]
     },
     "metadata": {},
     "output_type": "display_data"
    },
    {
     "name": "stdout",
     "output_type": "stream",
     "text": [
      "The model accuracy is : 0.7416666666666667\n"
     ]
    },
    {
     "data": {
      "application/vnd.jupyter.widget-view+json": {
       "model_id": "762dbe2ca7954fd7a4d4df142e2a337c",
       "version_major": 2,
       "version_minor": 0
      },
      "text/plain": [
       "  0%|          | 0/5 [00:00<?, ?it/s]"
      ]
     },
     "metadata": {},
     "output_type": "display_data"
    },
    {
     "name": "stdout",
     "output_type": "stream",
     "text": [
      "The model accuracy is : 0.7583333333333333\n"
     ]
    },
    {
     "data": {
      "application/vnd.jupyter.widget-view+json": {
       "model_id": "f0aa95534b7741bf877e9d058c839696",
       "version_major": 2,
       "version_minor": 0
      },
      "text/plain": [
       "  0%|          | 0/5 [00:00<?, ?it/s]"
      ]
     },
     "metadata": {},
     "output_type": "display_data"
    },
    {
     "name": "stdout",
     "output_type": "stream",
     "text": [
      "The model accuracy is : 0.725\n"
     ]
    },
    {
     "data": {
      "application/vnd.jupyter.widget-view+json": {
       "model_id": "e5f2ab7218dc4d34944da6a186b819c3",
       "version_major": 2,
       "version_minor": 0
      },
      "text/plain": [
       "  0%|          | 0/5 [00:00<?, ?it/s]"
      ]
     },
     "metadata": {},
     "output_type": "display_data"
    },
    {
     "name": "stdout",
     "output_type": "stream",
     "text": [
      "The model accuracy is : 0.7583333333333333\n"
     ]
    }
   ],
   "source": [
    "if os.path.exists(cancerApproximateASVFile):\n",
    "    os.remove(cancerApproximateASVFile) #Remove the file to reset results\n",
    "for seed in seeds:\n",
    "    cancerBNmodel, variableToPredict, numberOfSamples, treeMaxDepth = exp.cancerNetworkConfig()\n",
    "\n",
    "    BNInference, valuesPerFeature, encodedDataset, dtTreeClassifier, dtAsNetwork = initializeDataAndRemoveVariable(cancerBNmodel, variableToPredict, numberOfSamples, treeMaxDepth, seed)\n",
    "\n",
    "    dataNoPrediction = encodedDataset.drop(variableToPredict, axis=1)\n",
    "    first_instance = dataNoPrediction.iloc[0]\n",
    "\n",
    "    asvCalc = exact.ApproximateASV(cancerBNmodel, dtTreeClassifier, BNInference, valuesPerFeature, variableToPredict, predictionFunction='Exact')\n",
    "\n",
    "    exp.writeASVAndShapleyIntoFile(first_instance, dataNoPrediction, dtTreeClassifier, asvCalc, cancerApproximateASVFile , valuesPerFeature, variableToPredict, seed)"
   ]
  },
  {
   "cell_type": "markdown",
   "metadata": {},
   "source": [
    "### Running ASV for Child bayesian network"
   ]
  },
  {
   "cell_type": "code",
   "execution_count": 2,
   "metadata": {},
   "outputs": [
    {
     "data": {
      "application/vnd.jupyter.widget-view+json": {
       "model_id": "53497c5d16a84c46938a8fe94bf751b5",
       "version_major": 2,
       "version_minor": 0
      },
      "text/plain": [
       "  0%|          | 0/20 [00:00<?, ?it/s]"
      ]
     },
     "metadata": {},
     "output_type": "display_data"
    },
    {
     "name": "stderr",
     "output_type": "stream",
     "text": [
      "WARNING:pgmpy:Probability values don't exactly sum to 1. Differ by: -2.220446049250313e-16. Adjusting values.\n",
      "WARNING:pgmpy:Probability values don't exactly sum to 1. Differ by: 3.3306690738754696e-16. Adjusting values.\n"
     ]
    },
    {
     "name": "stdout",
     "output_type": "stream",
     "text": [
      "The model accuracy is : 0.6735\n"
     ]
    },
    {
     "data": {
      "application/vnd.jupyter.widget-view+json": {
       "model_id": "bad515e0398f4f2299772f229dd9cc38",
       "version_major": 2,
       "version_minor": 0
      },
      "text/plain": [
       "  0%|          | 0/20 [00:00<?, ?it/s]"
      ]
     },
     "metadata": {},
     "output_type": "display_data"
    },
    {
     "name": "stderr",
     "output_type": "stream",
     "text": [
      "WARNING:pgmpy:Probability values don't exactly sum to 1. Differ by: -2.220446049250313e-16. Adjusting values.\n",
      "WARNING:pgmpy:Probability values don't exactly sum to 1. Differ by: 3.3306690738754696e-16. Adjusting values.\n"
     ]
    },
    {
     "name": "stdout",
     "output_type": "stream",
     "text": [
      "The model accuracy is : 0.6705\n"
     ]
    },
    {
     "data": {
      "application/vnd.jupyter.widget-view+json": {
       "model_id": "865217a4a9e34428bbba8985de30e8fd",
       "version_major": 2,
       "version_minor": 0
      },
      "text/plain": [
       "  0%|          | 0/20 [00:00<?, ?it/s]"
      ]
     },
     "metadata": {},
     "output_type": "display_data"
    },
    {
     "name": "stderr",
     "output_type": "stream",
     "text": [
      "WARNING:pgmpy:Probability values don't exactly sum to 1. Differ by: -2.220446049250313e-16. Adjusting values.\n",
      "WARNING:pgmpy:Probability values don't exactly sum to 1. Differ by: 3.3306690738754696e-16. Adjusting values.\n"
     ]
    },
    {
     "name": "stdout",
     "output_type": "stream",
     "text": [
      "The model accuracy is : 0.652\n"
     ]
    },
    {
     "data": {
      "application/vnd.jupyter.widget-view+json": {
       "model_id": "0d3777e72a4c470cad2fe05bec74c2ee",
       "version_major": 2,
       "version_minor": 0
      },
      "text/plain": [
       "  0%|          | 0/20 [00:00<?, ?it/s]"
      ]
     },
     "metadata": {},
     "output_type": "display_data"
    },
    {
     "name": "stderr",
     "output_type": "stream",
     "text": [
      "WARNING:pgmpy:Probability values don't exactly sum to 1. Differ by: -2.220446049250313e-16. Adjusting values.\n",
      "WARNING:pgmpy:Probability values don't exactly sum to 1. Differ by: 3.3306690738754696e-16. Adjusting values.\n"
     ]
    },
    {
     "name": "stdout",
     "output_type": "stream",
     "text": [
      "The model accuracy is : 0.6785\n"
     ]
    },
    {
     "data": {
      "application/vnd.jupyter.widget-view+json": {
       "model_id": "66153b375fab498492f65d9b0956aded",
       "version_major": 2,
       "version_minor": 0
      },
      "text/plain": [
       "  0%|          | 0/20 [00:00<?, ?it/s]"
      ]
     },
     "metadata": {},
     "output_type": "display_data"
    },
    {
     "name": "stderr",
     "output_type": "stream",
     "text": [
      "WARNING:pgmpy:Probability values don't exactly sum to 1. Differ by: -2.220446049250313e-16. Adjusting values.\n",
      "WARNING:pgmpy:Probability values don't exactly sum to 1. Differ by: 3.3306690738754696e-16. Adjusting values.\n"
     ]
    },
    {
     "name": "stdout",
     "output_type": "stream",
     "text": [
      "The model accuracy is : 0.6735\n"
     ]
    }
   ],
   "source": [
    "if os.path.exists(childApproximateASVFile):\n",
    "    os.remove(childApproximateASVFile) #Remove the file to reset results\n",
    "for seed in seeds:\n",
    "    treeBNChild, variableToPredict, numberOfSamples, treeMaxDepth = exp.childNetworkConfig()\n",
    "    BNInference, valuesPerFeature, encodedDataset, dtTreeClassifier, dtAsNetwork = initializeDataAndRemoveVariable(treeBNChild, variableToPredict, numberOfSamples, treeMaxDepth, seed)\n",
    "\n",
    "    dataNoPrediction = encodedDataset.drop(variableToPredict, axis=1)\n",
    "    first_instance = dataNoPrediction.iloc[0]\n",
    "\n",
    "    asvCalc = exact.ApproximateASV(treeBNChild, dtTreeClassifier, BNInference, valuesPerFeature, variableToPredict, predictionFunction='Exact')\n",
    "\n",
    "    exp.writeASVAndShapleyIntoFile(first_instance, dataNoPrediction, dtTreeClassifier, asvCalc, childApproximateASVFile , valuesPerFeature, variableToPredict, seed)\n",
    "    #This takes 20 minutes to run"
   ]
  },
  {
   "cell_type": "code",
   "execution_count": null,
   "metadata": {},
   "outputs": [],
   "source": []
  },
  {
   "cell_type": "markdown",
   "metadata": {},
   "source": [
    "## Plotting the results "
   ]
  },
  {
   "cell_type": "markdown",
   "metadata": {},
   "source": [
    "### Converting to numerical data"
   ]
  },
  {
   "cell_type": "code",
   "execution_count": 5,
   "metadata": {},
   "outputs": [],
   "source": [
    "dfCancerApproximateDict = exp.multipleSeedsDataframes(cancerApproximateASVFile, seeds)\n",
    "dfCancerExactDict = exp.multipleSeedsDataframes(cancerExactASVFile, seeds)\n",
    "\n",
    "dfChildAppproximateDict = exp.multipleSeedsDataframes(childApproximateASVFile, seeds)\n",
    "dfChildExactDict = exp.multipleSeedsDataframes(childExactASVFile, seeds)\n",
    "\n",
    "plotsResultsFolder = 'results/plots/'"
   ]
  },
  {
   "cell_type": "markdown",
   "metadata": {},
   "source": [
    "### Plotting ASV values for each feature"
   ]
  },
  {
   "cell_type": "code",
   "execution_count": null,
   "metadata": {},
   "outputs": [],
   "source": [
    "def plotASVandShapForSeeds(seeds, dfDict, hueValue):\n",
    "    _, axes = plt.subplots(len(seeds), 2, figsize=(20, 15))\n",
    "    for i, seed in enumerate(seeds):\n",
    "        df = dfDict[seed]\n",
    "        exp.plotASVandShapFromDF(df, hueValue, seed, None, axes[i])\n",
    "\n",
    "    bayesianNetwork = 'cancer' if \"Smoker value\" == hueValue else 'child'\n",
    "    plt.tight_layout()  # Adjust layout to prevent overlap\n",
    "    plt.savefig(f\"{plotsResultsFolder}{bayesianNetwork}MultipleSeedsASVandShapleyApproximate.png\")\n",
    "    plt.show()\n",
    "\n",
    "exp.plotASVandShapFromDF(dfCancerApproximateDict[12], 'Smoker value', 12, f\"{plotsResultsFolder}{dfCancerApproximateDict[12].name}ASVAndShapley.png\")\n",
    "exp.plotASVandShapFromDF(dfChildAppproximateDict[420], 'Age value', 420, f\"{plotsResultsFolder}{dfChildAppproximateDict[420].name}ASVAndShapley.png\")\n",
    "\n",
    "plotASVandShapForSeeds(seeds, dfCancerApproximateDict, 'Smoker value')\n",
    "plotASVandShapForSeeds(seeds, dfChildAppproximateDict, 'Age value')\n"
   ]
  },
  {
   "cell_type": "code",
   "execution_count": 7,
   "metadata": {},
   "outputs": [
    {
     "data": {
      "image/png": "[encoded data removed]",
      "text/plain": [
       "<Figure size 1200x800 with 1 Axes>"
      ]
     },
     "metadata": {},
     "output_type": "display_data"
    }
   ],
   "source": [
    "def calculateASVDifferences(dfExactDict: dict[int, pd.DataFrame], \n",
    "                            dfApproximateDict: dict[int, pd.DataFrame], \n",
    "                            seeds):\n",
    "\n",
    "    all_merged = []\n",
    "\n",
    "    for seed in seeds:\n",
    "        exact_df = dfExactDict[seed]\n",
    "        approx_df = dfApproximateDict[seed]\n",
    "\n",
    "        predictedColumn = \"Smoker\" if 'cancer' in exact_df.name else \"Age\"\n",
    "        merged = pd.merge(exact_df, approx_df, on=[\"Feature\", f\"{predictedColumn} value\"], \n",
    "                          suffixes=(\"_exact\", \"_approx\"))\n",
    "\n",
    "        merged = merged[merged['ASV_approx'] > 0.005]\n",
    "\n",
    "        merged[\"ASV_diff\"] = (merged[\"ASV_exact\"] - merged[\"ASV_approx\"])\n",
    "\n",
    "        merged[\"relative_difference\"] = np.where(\n",
    "            merged[\"ASV_exact\"] != 0,\n",
    "            (merged[\"ASV_diff\"] / merged[\"ASV_exact\"].abs()) * 100,\n",
    "            np.nan\n",
    "        )\n",
    "\n",
    "        merged[\"Seed\"] = seed\n",
    "\n",
    "        all_merged.append(merged)\n",
    "\n",
    "    # Concatenamos todos los merged en un único dataframe\n",
    "    final_df = pd.concat(all_merged, ignore_index=True)\n",
    "\n",
    "    # Plot global con todas las seeds\n",
    "    plt.figure(figsize=(12, 8))\n",
    "    sns.boxplot(\n",
    "        data=final_df,\n",
    "        x=f\"{predictedColumn} value\",   # \"Age value\"\n",
    "        y=\"relative_difference\"\n",
    "    )\n",
    "\n",
    "    plt.axhline(0, color=\"black\", linewidth=1)\n",
    "    plt.title(\"ASV Relative Diference by Age Value (All Seeds)\")\n",
    "    plt.ylabel(\"ASV Relative Diference\")\n",
    "    plt.xlabel(\"Age Value Category\")\n",
    "    plt.xticks(rotation=45)\n",
    "    plt.tight_layout()\n",
    "    plt.savefig(f\"{plotsResultsFolder}ChildAllSeedsASVBoxplot.png\")\n",
    "    plt.show()\n",
    "\n",
    "\n",
    "#calculateASVDifferences(dfCancerApproximateDict, dfCancerExactDict, seeds)\n",
    "calculateASVDifferences(dfChildAppproximateDict, dfChildExactDict, seeds)\n"
   ]
  },
  {
   "cell_type": "markdown",
   "metadata": {},
   "source": [
    "## Child toposorts generation experiment"
   ]
  },
  {
   "cell_type": "code",
   "execution_count": 5,
   "metadata": {},
   "outputs": [],
   "source": [
    "treeBNChild, variableToPredict, numberOfSamples, treeMaxDepth = exp.childNetworkConfig()"
   ]
  },
  {
   "cell_type": "code",
   "execution_count": 6,
   "metadata": {},
   "outputs": [
    {
     "name": "stdout",
     "output_type": "stream",
     "text": [
      "Time for 30000000 exact generation of toposorts: 728.4126399669999, which is a 0.004048% of total toposorts\n"
     ]
    }
   ],
   "source": [
    "import timeit\n",
    "from itertools import islice\n",
    "from asvFormula.topoSorts import allPolyTopoSorts\n",
    "\n",
    "\n",
    "numberOfSamples = 30000000\n",
    "allToposorts = allPolyTopoSorts(treeBNChild)\n",
    "#timeForSamples = timeit.timeit(lambda: exact.randomTopoSorts(treeBNChild, numberOfSamples), number=1)\n",
    "timeForClasses = timeit.timeit(lambda: exact.equivalenceClassesFor(treeBNChild, 'HypDistrib'), number=1)\n",
    "timeForExact = timeit.timeit(lambda:  list(islice(nx.all_topological_sorts(treeBNChild), numberOfSamples)), number=1)\n",
    "\n",
    "\n",
    "#print(allToposorts)\n",
    "#print(f\"Time for {numberOfSamples} samples: {timeForSamples}, which is a {round(numberOfSamples/allToposorts*100, 6)}% of total toposorts\")\n",
    "#print(f\"Time taken for generating equivalence classes classes : {timeForClasses}\")\n",
    "print(f\"Time for {numberOfSamples} exact generation of toposorts: {timeForExact}, which is a {round(numberOfSamples/allToposorts*100, 6)}% of total toposorts\")\n",
    "\n"
   ]
  }
 ],
 "metadata": {
  "kernelspec": {
   "display_name": "Python 3",
   "language": "python",
   "name": "python3"
  },
  "language_info": {
   "codemirror_mode": {
    "name": "ipython",
    "version": 3
   },
   "file_extension": ".py",
   "mimetype": "text/x-python",
   "name": "python",
   "nbconvert_exporter": "python",
   "pygments_lexer": "ipython3",
   "version": "3.10.12"
  }
 },
 "nbformat": 4,
 "nbformat_minor": 2
}
