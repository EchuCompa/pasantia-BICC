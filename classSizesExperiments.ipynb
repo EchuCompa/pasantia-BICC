{
 "cells": [
  {
   "cell_type": "markdown",
   "metadata": {},
   "source": [
    "##### Imports"
   ]
  },
  {
   "cell_type": "code",
   "execution_count": 2,
   "metadata": {},
   "outputs": [],
   "source": [
    "import sys, os\n",
    "from asvFormula.digraph import *\n",
    "from asvFormula.classesSizes.algorithmTime import measureGraphTime\n",
    "import pandas as pd"
   ]
  },
  {
   "cell_type": "markdown",
   "metadata": {},
   "source": [
    "## Experimentation"
   ]
  },
  {
   "cell_type": "code",
   "execution_count": 3,
   "metadata": {},
   "outputs": [],
   "source": [
    "resultsFolder = 'results/graphData/'\n",
    "\n",
    "naiveBayesWithPathFile = resultsFolder + 'naiveBayes.csv'\n",
    "multiplePathsFile = resultsFolder + 'multiplePaths.csv'\n",
    "balancedTreesFile = resultsFolder + 'balancedTrees.csv'"
   ]
  },
  {
   "cell_type": "markdown",
   "metadata": {},
   "source": [
    "### Auxiliary Functions"
   ]
  },
  {
   "cell_type": "code",
   "execution_count": 3,
   "metadata": {},
   "outputs": [],
   "source": [
    "printEnabled = True\n",
    "def disablePrint():\n",
    "    global printEnabled\n",
    "    if printEnabled:\n",
    "        sys._jupyter_stdout = sys.stdout\n",
    "        sys.stdout = open(os.devnull, 'w')\n",
    "        printEnabled = False\n",
    "\n",
    "def enablePrint():\n",
    "    global printEnabled\n",
    "    printEnabled = True\n",
    "    sys.stdout.close()\n",
    "    sys.stdout = sys._jupyter_stdout\n",
    "\n",
    "def convertDictToCsv(dict, filename):\n",
    "\n",
    "    df = pd.DataFrame.from_dict(dict, orient='index')\n",
    "\n",
    "    # Save the DataFrame to a CSV file\n",
    "    df.to_csv(filename)"
   ]
  },
  {
   "cell_type": "markdown",
   "metadata": {},
   "source": [
    "### Time Naive Bayes"
   ]
  },
  {
   "cell_type": "code",
   "execution_count": 5,
   "metadata": {},
   "outputs": [
    {
     "name": "stdout",
     "output_type": "stream",
     "text": [
      "10 Children, 10 PathLength[12, 13, 14, 15, 16, 17, 18, 19]\n",
      "Running for node 12 which has 256 equivalence classes\n",
      "Node 12 took 0.13266277313232422 seconds to run\n",
      "Running for node 13 which has 256 equivalence classes\n",
      "Node 13 took 0.0635218620300293 seconds to run\n",
      "Running for node 14 which has 256 equivalence classes\n",
      "Node 14 took 0.07802128791809082 seconds to run\n",
      "Running for node 15 which has 256 equivalence classes\n",
      "Node 15 took 0.07158350944519043 seconds to run\n",
      "Running for node 16 which has 256 equivalence classes\n",
      "Node 16 took 0.0717310905456543 seconds to run\n",
      "Running for node 17 which has 256 equivalence classes\n",
      "Node 17 took 0.08822083473205566 seconds to run\n",
      "Running for node 18 which has 256 equivalence classes\n",
      "Node 18 took 0.07734227180480957 seconds to run\n",
      "Running for node 19 which has 256 equivalence classes\n",
      "Node 19 took 0.061896562576293945 seconds to run\n",
      "10 Children, 11 PathLength[13, 14, 15, 16, 17, 18, 19, 20]\n",
      "Running for node 13 which has 256 equivalence classes\n",
      "Node 13 took 0.07367396354675293 seconds to run\n",
      "Running for node 14 which has 256 equivalence classes\n",
      "Node 14 took 0.06833791732788086 seconds to run\n",
      "Running for node 15 which has 256 equivalence classes\n",
      "Node 15 took 0.09368777275085449 seconds to run\n",
      "Running for node 16 which has 256 equivalence classes\n",
      "Node 16 took 0.08447575569152832 seconds to run\n",
      "Running for node 17 which has 256 equivalence classes\n",
      "Node 17 took 0.08539891242980957 seconds to run\n",
      "Running for node 18 which has 256 equivalence classes\n",
      "Node 18 took 0.0864415168762207 seconds to run\n",
      "Running for node 19 which has 256 equivalence classes\n",
      "Node 19 took 0.07798361778259277 seconds to run\n",
      "Running for node 20 which has 256 equivalence classes\n",
      "Node 20 took 0.057408809661865234 seconds to run\n",
      "10 Children, 12 PathLength[14, 15, 16, 17, 18, 19, 20, 21]\n",
      "Running for node 14 which has 256 equivalence classes\n",
      "Node 14 took 0.08345437049865723 seconds to run\n",
      "Running for node 15 which has 256 equivalence classes\n",
      "Node 15 took 0.07542157173156738 seconds to run\n",
      "Running for node 16 which has 256 equivalence classes\n",
      "Node 16 took 0.07905697822570801 seconds to run\n",
      "Running for node 17 which has 256 equivalence classes\n",
      "Node 17 took 0.07844662666320801 seconds to run\n",
      "Running for node 18 which has 256 equivalence classes\n",
      "Node 18 took 0.08187699317932129 seconds to run\n",
      "Running for node 19 which has 256 equivalence classes\n",
      "Node 19 took 0.08805990219116211 seconds to run\n",
      "Running for node 20 which has 256 equivalence classes\n",
      "Node 20 took 0.08207511901855469 seconds to run\n",
      "Running for node 21 which has 256 equivalence classes\n",
      "Node 21 took 0.062304019927978516 seconds to run\n",
      "10 Children, 13 PathLength[15, 16, 17, 18, 19, 20, 21, 22]\n",
      "Running for node 15 which has 256 equivalence classes\n",
      "Node 15 took 0.08219075202941895 seconds to run\n",
      "Running for node 16 which has 256 equivalence classes\n",
      "Node 16 took 0.07758426666259766 seconds to run\n",
      "Running for node 17 which has 256 equivalence classes\n",
      "Node 17 took 0.07845497131347656 seconds to run\n",
      "Running for node 18 which has 256 equivalence classes\n",
      "Node 18 took 0.08369016647338867 seconds to run\n",
      "Running for node 19 which has 256 equivalence classes\n",
      "Node 19 took 0.08360433578491211 seconds to run\n",
      "Running for node 20 which has 256 equivalence classes\n",
      "Node 20 took 0.09318208694458008 seconds to run\n",
      "Running for node 21 which has 256 equivalence classes\n",
      "Node 21 took 0.08489513397216797 seconds to run\n",
      "Running for node 22 which has 256 equivalence classes\n",
      "Node 22 took 0.0641326904296875 seconds to run\n",
      "10 Children, 14 PathLength[16, 17, 18, 19, 20, 21, 22, 23]\n",
      "Running for node 16 which has 256 equivalence classes\n",
      "Node 16 took 0.10015654563903809 seconds to run\n",
      "Running for node 17 which has 256 equivalence classes\n",
      "Node 17 took 0.08661842346191406 seconds to run\n",
      "Running for node 18 which has 256 equivalence classes\n",
      "Node 18 took 0.2373948097229004 seconds to run\n",
      "Running for node 19 which has 256 equivalence classes\n",
      "Node 19 took 0.09061527252197266 seconds to run\n",
      "Running for node 20 which has 256 equivalence classes\n",
      "Node 20 took 0.08809685707092285 seconds to run\n",
      "Running for node 21 which has 256 equivalence classes\n",
      "Node 21 took 0.09184980392456055 seconds to run\n",
      "Running for node 22 which has 256 equivalence classes\n",
      "Node 22 took 0.08978772163391113 seconds to run\n",
      "Running for node 23 which has 256 equivalence classes\n",
      "Node 23 took 0.06580138206481934 seconds to run\n",
      "10 Children, 15 PathLength[17, 18, 19, 20, 21, 22, 23, 24]\n",
      "Running for node 17 which has 256 equivalence classes\n",
      "Node 17 took 0.09045720100402832 seconds to run\n",
      "Running for node 18 which has 256 equivalence classes\n",
      "Node 18 took 0.08949041366577148 seconds to run\n",
      "Running for node 19 which has 256 equivalence classes\n",
      "Node 19 took 0.0928335189819336 seconds to run\n",
      "Running for node 20 which has 256 equivalence classes\n",
      "Node 20 took 0.08786582946777344 seconds to run\n",
      "Running for node 21 which has 256 equivalence classes\n",
      "Node 21 took 0.08953857421875 seconds to run\n",
      "Running for node 22 which has 256 equivalence classes\n",
      "Node 22 took 0.09820723533630371 seconds to run\n",
      "Running for node 23 which has 256 equivalence classes\n",
      "Node 23 took 0.09357619285583496 seconds to run\n",
      "Running for node 24 which has 256 equivalence classes\n",
      "Node 24 took 0.06883764266967773 seconds to run\n",
      "10 Children, 16 PathLength[18, 19, 20, 21, 22, 23, 24, 25]\n",
      "Running for node 18 which has 256 equivalence classes\n"
     ]
    },
    {
     "data": {
      "image/png": "[encoded data removed]",
      "text/plain": [
       "<Figure size 640x480 with 1 Axes>"
      ]
     },
     "metadata": {},
     "output_type": "display_data"
    },
    {
     "ename": "",
     "evalue": "",
     "output_type": "error",
     "traceback": [
      "\u001b[1;31mThe Kernel crashed while executing code in the current cell or a previous cell. \n",
      "\u001b[1;31mPlease review the code in the cell(s) to identify a possible cause of the failure. \n",
      "\u001b[1;31mClick <a href='https://aka.ms/vscodeJupyterKernelCrash'>here</a> for more info. \n",
      "\u001b[1;31mView Jupyter <a href='command:jupyter.viewOutput'>log</a> for further details."
     ]
    }
   ],
   "source": [
    "def timeMultipleNaiveBayesWithPath(numNodes, pathLength, startFrom = 1):\n",
    "    graphsResults = {}\n",
    "    for i in range(startFrom,numNodes+1):\n",
    "        for j in range(startFrom,pathLength+1):\n",
    "            graphToEvaluate = naiveBayesWithPath(i, j)\n",
    "            nodesToEvaluate = list(range(i+j-8, i+j))\n",
    "            print(f'{i} Children, {j} PathLength' + str(nodesToEvaluate))\n",
    "            graphsResults[f'{i} Children, {j} PathLength'] = measureGraphTime(graphToEvaluate, nodesToEvaluate)\n",
    "            convertDictToCsv(graphsResults, naiveBayesWithPathFile)\n",
    "    return graphsResults\n",
    "    \n",
    "\n",
    "numNodes = 20\n",
    "pathLenght = 20\n",
    "resNaiveBayes = timeMultipleNaiveBayesWithPath(numNodes, pathLenght,10)"
   ]
  },
  {
   "cell_type": "markdown",
   "metadata": {},
   "source": [
    "### Time multiple Paths"
   ]
  },
  {
   "cell_type": "code",
   "execution_count": null,
   "metadata": {},
   "outputs": [],
   "source": [
    "def timeMultiplePathsGraphs(numPaths, pathLength, startFrom = 1):\n",
    "    graphsResults = {}\n",
    "    for i in range(startFrom,numPaths+1):\n",
    "        for j in range(startFrom,pathLength+1):\n",
    "            graphToEvaluate = multiplePaths(i, j)\n",
    "            #drawGraph(graphToEvaluate)\n",
    "            nodesToEvaluate = list(range(0, j))\n",
    "            print(f'{i} Paths, {j} Length' + str(nodesToEvaluate))\n",
    "            graphsResults[f'{i} Paths, {j} Length'] = measureGraphTime(graphToEvaluate, nodesToEvaluate)\n",
    "            convertDictToCsv(graphsResults, multiplePathsFile)\n",
    "\n",
    "    return graphsResults\n",
    "    \n",
    "\n",
    "numberOfPaths = 8\n",
    "pathLenght = 8\n",
    "resMultiplePaths = timeMultiplePathsGraphs(numberOfPaths, pathLenght,4)"
   ]
  },
  {
   "cell_type": "markdown",
   "metadata": {},
   "source": [
    "### Time balanced trees"
   ]
  },
  {
   "cell_type": "code",
   "execution_count": null,
   "metadata": {},
   "outputs": [],
   "source": [
    "def timeMultipleBalancedTrees(numLevels, branchingFactor = 2, startLevels = 1, starBranching = 2):\n",
    "    graphsResults = {}\n",
    "    for i in range(startLevels,numLevels+1):\n",
    "        for j in range(starBranching,branchingFactor+1):\n",
    "            graphToEvaluate = balancedTree(i, j)\n",
    "            #drawGraph(graphToEvaluate)\n",
    "            leafNode = [node for node in graphToEvaluate.nodes if isLeaf(node, graphToEvaluate)][0]\n",
    "            pathToLeaf = orderedNodes(graphToEvaluate, nx.ancestors(graphToEvaluate, leafNode)) + [leafNode]\n",
    "            print(f'{i} Levels, {j} Branching' + str(pathToLeaf))\n",
    "            graphsResults[f'{i} Levels, {j} Branching'] = measureGraphTime(graphToEvaluate, pathToLeaf)\n",
    "            convertDictToCsv(graphsResults, balancedTreesFile)\n",
    "            \n",
    "\n",
    "    return graphsResults\n",
    "\n",
    "numLevels = 2\n",
    "branchingFactor =6\n",
    "\n",
    "resBalancedTrees = timeMultipleBalancedTrees(numLevels, branchingFactor, 2, 3)\n"
   ]
  },
  {
   "cell_type": "markdown",
   "metadata": {},
   "source": [
    "### Plotting the results "
   ]
  },
  {
   "cell_type": "code",
   "execution_count": null,
   "metadata": {},
   "outputs": [],
   "source": [
    "def dataframeFromCsv(filename):\n",
    "    df = pd.read_csv(resultsFolder + filename, index_col=0)\n",
    "    df.name = filename[:-4]\n",
    "    return df\n",
    "\n",
    "\n",
    "resultsFolder = '/results/graphData/'\n",
    "naiveBayesFile = 'naiveBayes.csv'\n",
    "multiplePathsFile = 'multiplePaths.csv'\n",
    "balancedTreesFile = 'balancedTrees.csv'\n",
    "\n",
    "naiveBayesDf = dataframeFromCsv(naiveBayesFile)\n",
    "dfMultiplePaths = dataframeFromCsv(multiplePathsFile)\n",
    "dfBalancedTrees = dataframeFromCsv(balancedTreesFile)\n",
    "\n",
    "for column in ['allTopoSortsNumber', 'biggestEquivClasses', 'smallestEquivClasses']:\n",
    "    for dataframe in [naiveBayesDf, dfMultiplePaths, dfBalancedTrees]:\n",
    "        dataframe[column] = pd.to_numeric(dataframe[column], errors='coerce')\n",
    "\n",
    "\n"
   ]
  },
  {
   "cell_type": "code",
   "execution_count": null,
   "metadata": {},
   "outputs": [],
   "source": [
    "import seaborn as sns\n",
    "import matplotlib.pyplot as plt\n",
    "import numpy as np\n",
    "\n",
    "plotsResultsFolder = '/results/plots/'\n",
    "\n",
    "def plotColumns(column1, column2, df, logScale = False):\n",
    "    sns.set_theme(style='whitegrid')\n",
    "\n",
    "    plt.figure(figsize=(10, 6))  # Set the figure size\n",
    "    ax = sns.lineplot(x=column1, y=column2, data=df)\n",
    "\n",
    "    if logScale:\n",
    "        ax.set(xscale=\"log\")\n",
    "        # Define evenly spaced ticks for the x-axis\n",
    "        min_tick = np.floor(np.log10(naiveBayesDf['allTopoSortsNumber'].min()))\n",
    "        max_tick = np.ceil(np.log10(naiveBayesDf['allTopoSortsNumber'].max()))\n",
    "        ticks = np.logspace(min_tick, max_tick, num=5)\n",
    "        ax.set_xticks(ticks)\n",
    "\n",
    "    ax.set_xlabel(column1)\n",
    "    ax.set_ylabel(column2)\n",
    "    ax.set_title(f'{column1} vs {column2}')\n",
    "\n",
    "    plt.savefig(f'{plotsResultsFolder}{df.name}-{column1} vs {column2}.png')\n",
    "    plt.close()\n",
    "    \n",
    "    #plt.show()\n",
    "\n",
    "def plotGraphFamiliy(graphFamiliyData):\n",
    "    plotColumns('allTopoSortsNumber', 'recursiveAverageTime', graphFamiliyData, True)\n",
    "    plotColumns('averageEquivClasses', 'recursiveAverageTime', graphFamiliyData)\n",
    "    plotColumns('averageEquivClasses', 'allTopoSortsNumber', graphFamiliyData)"
   ]
  },
  {
   "cell_type": "code",
   "execution_count": null,
   "metadata": {},
   "outputs": [],
   "source": [
    "plotGraphFamiliy(naiveBayesDf)\n",
    "plotGraphFamiliy(dfMultiplePaths)\n",
    "plotGraphFamiliy(dfBalancedTrees)"
   ]
  },
  {
   "cell_type": "markdown",
   "metadata": {},
   "source": [
    "### Optimization experiment"
   ]
  },
  {
   "cell_type": "code",
   "execution_count": null,
   "metadata": {},
   "outputs": [],
   "source": [
    "from asvFormula.digraph import *\n",
    "from asvFormula.classesSizes import equivalanceClassesSizesWithHashes\n",
    "\n",
    "\n",
    "graphExample = multiplePaths(3,3)\n",
    "\n",
    "for node in graphExample.nodes:\n",
    "    classes = equivalanceClassesSizesWithHashes(graphExample, node)\n",
    "    print(node)\n"
   ]
  }
 ],
 "metadata": {
  "kernelspec": {
   "display_name": "Python 3",
   "language": "python",
   "name": "python3"
  },
  "language_info": {
   "codemirror_mode": {
    "name": "ipython",
    "version": 3
   },
   "file_extension": ".py",
   "mimetype": "text/x-python",
   "name": "python",
   "nbconvert_exporter": "python",
   "pygments_lexer": "ipython3",
   "version": "3.10.12"
  }
 },
 "nbformat": 4,
 "nbformat_minor": 2
}
