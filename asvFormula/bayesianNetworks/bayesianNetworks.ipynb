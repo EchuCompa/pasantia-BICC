{
 "cells": [
  {
   "cell_type": "markdown",
   "metadata": {},
   "source": [
    "#### Imports"
   ]
  },
  {
   "cell_type": "code",
   "execution_count": 1,
   "metadata": {},
   "outputs": [],
   "source": [
    "#We are obtaining the bayesian networks from https://www.bnlearn.com/bnrepository\n",
    "from copy import deepcopy\n",
    "from pgmpy.readwrite import BIFReader\n",
    "from pgmpy.inference import VariableElimination\n",
    "import random\n",
    "from bayesianNetwork import *\n",
    "from datasetManipulation import *"
   ]
  },
  {
   "cell_type": "markdown",
   "metadata": {},
   "source": [
    "##### Gum code"
   ]
  },
  {
   "cell_type": "code",
   "execution_count": 2,
   "metadata": {},
   "outputs": [
    {
     "data": {
      "text/plain": [
       "'\\nGum Code that might be needed later\\n\\ndef datasetFromBayesianNetwork(model, n):\\n    g = gum.BNDatabaseGenerator(model)\\n    g.setRandomVarOrder()\\n    g.drawSamples(n)\\n    return g.to_pandas()\\n    \\nHow to get the posterior of a bayesian network\\npred = gum.getPosterior(cancerBN,evs={\"Pollution\":\\'high\\',\"Smoker\":\\'True\\'},target=\\'Cancer\\')\\ninstance = gum.Instantiation(pred)\\ninstance.setFirst()\\n\\nfor _ in range(pred.domainSize()):\\n    print(instance.todict(True))\\n    print(pred.get(instance))\\n    instance.inc()\\n \\n    '"
      ]
     },
     "execution_count": 2,
     "metadata": {},
     "output_type": "execute_result"
    }
   ],
   "source": [
    "\"\"\"\n",
    "Gum Code that might be needed later\n",
    "import pyAgrum as gum\n",
    "import pyAgrum.lib.notebook as gnb\n",
    "\n",
    "def datasetFromBayesianNetwork(model, n):\n",
    "    g = gum.BNDatabaseGenerator(model)\n",
    "    g.setRandomVarOrder()\n",
    "    g.drawSamples(n)\n",
    "    return g.to_pandas()\n",
    "    \n",
    "How to get the posterior of a bayesian network\n",
    "pred = gum.getPosterior(cancerBN,evs={\"Pollution\":'high',\"Smoker\":'True'},target='Cancer')\n",
    "instance = gum.Instantiation(pred)\n",
    "instance.setFirst()\n",
    "\n",
    "for _ in range(pred.domainSize()):\n",
    "    print(instance.todict(True))\n",
    "    print(pred.get(instance))\n",
    "    instance.inc()\n",
    " \n",
    "    \"\"\""
   ]
  },
  {
   "cell_type": "markdown",
   "metadata": {},
   "source": [
    "### Create the network and the dataset"
   ]
  },
  {
   "cell_type": "code",
   "execution_count": 5,
   "metadata": {},
   "outputs": [
    {
     "data": {
      "application/vnd.jupyter.widget-view+json": {
       "model_id": "66d1f24099cd42738946acd28bc54465",
       "version_major": 2,
       "version_minor": 0
      },
      "text/plain": [
       "  0%|          | 0/5 [00:00<?, ?it/s]"
      ]
     },
     "metadata": {},
     "output_type": "display_data"
    }
   ],
   "source": [
    "random.seed(10)\n",
    "\n",
    "BNmodel = BIFReader(\"cancer.bif\").get_model()\n",
    "BNInference = VariableElimination(BNmodel)\n",
    "variableToPredict = \"Cancer\"\n",
    "\n",
    "# Create a BNDatabaseGenerator object from the model\n",
    "dataFromBN = datasetFromBayesianNetwork(BNmodel, 2000)\n",
    "encodingDict, encodedDataset = encodeCategoricalColumns(dataFromBN)\n",
    "dtTreeClassifier = decisionTreeFromDataset(encodedDataset, variableToPredict , 2)\n",
    "\n",
    "dtAsNetwork = obtainNetworkXTreeStructure(dtTreeClassifier, encodedDataset.columns)\n",
    "\n",
    "rootNodes = [node for node in dtAsNetwork.nodes if isRoot(node, dtAsNetwork)] \n",
    "root = rootNodes[0]"
   ]
  },
  {
   "cell_type": "markdown",
   "metadata": {},
   "source": [
    "### Compute the mean prediction of the decision tree"
   ]
  },
  {
   "cell_type": "code",
   "execution_count": 12,
   "metadata": {},
   "outputs": [
    {
     "name": "stdout",
     "output_type": "stream",
     "text": [
      "0.98837\n"
     ]
    },
    {
     "data": {
      "text/plain": [
       "array([0.01163, 0.98837])"
      ]
     },
     "execution_count": 12,
     "metadata": {},
     "output_type": "execute_result"
    }
   ],
   "source": [
    "positiveProbPerLeafNode = {node : dtTreeClassifier.tree_.value[node][0][0] for node in dtAsNetwork.nodes if isLeaf(node, dtAsNetwork)}\n",
    "print(meanForDTinBN(positiveProbPerLeafNode, dtAsNetwork, root, BNInference, {}, encodingDict, variableToPredict, 'True'))\n",
    "BNInference.query(variables=['Cancer']).values"
   ]
  },
  {
   "cell_type": "code",
   "execution_count": 27,
   "metadata": {},
   "outputs": [],
   "source": [
    "query = BNInference.query(evidence={'Pollution':'high', 'Smoker':'True', 'Cancer' : 'True', 'Dyspnoea' : 'True'}, joint=True, variables = ['Xray'] )\n",
    "feature = 'Xray'"
   ]
  },
  {
   "cell_type": "code",
   "execution_count": 30,
   "metadata": {},
   "outputs": [
    {
     "data": {
      "text/plain": [
       "0.1"
      ]
     },
     "execution_count": 30,
     "metadata": {},
     "output_type": "execute_result"
    }
   ],
   "source": [
    "query.get_value(**{feature :'negative'})"
   ]
  }
 ],
 "metadata": {
  "kernelspec": {
   "display_name": "Python 3",
   "language": "python",
   "name": "python3"
  },
  "language_info": {
   "codemirror_mode": {
    "name": "ipython",
    "version": 3
   },
   "file_extension": ".py",
   "mimetype": "text/x-python",
   "name": "python",
   "nbconvert_exporter": "python",
   "pygments_lexer": "ipython3",
   "version": "3.10.12"
  }
 },
 "nbformat": 4,
 "nbformat_minor": 2
}
