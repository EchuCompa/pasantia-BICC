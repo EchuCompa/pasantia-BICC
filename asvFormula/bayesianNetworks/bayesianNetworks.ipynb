{
 "cells": [
  {
   "cell_type": "markdown",
   "metadata": {},
   "source": [
    "#### Imports"
   ]
  },
  {
   "cell_type": "code",
   "execution_count": 1,
   "metadata": {},
   "outputs": [
    {
     "name": "stdout",
     "output_type": "stream",
     "text": [
      "['/usr/lib/python310.zip', '/usr/lib/python3.10', '/usr/lib/python3.10/lib-dynload', '', '/home/echu/.local/lib/python3.10/site-packages', '/usr/local/lib/python3.10/dist-packages', '/usr/lib/python3/dist-packages', '/home/echu/tesis/pasantia-BICC/asvFormula/bayesianNetworks/..']\n"
     ]
    }
   ],
   "source": [
    "import pyAgrum as gum\n",
    "import pandas as pd\n",
    "import matplotlib.pyplot as plt\n",
    "import networkx as nx\n",
    "import numpy as np\n",
    "import sys, os\n",
    "\n",
    "\n",
    "from meanForDTinBN import *\n",
    "from classesSizes.digraph import *\n",
    "\n",
    "\n",
    "from sklearn.model_selection import train_test_split\n",
    "from sklearn import tree\n",
    "from sklearn.preprocessing import LabelEncoder"
   ]
  },
  {
   "cell_type": "markdown",
   "metadata": {},
   "source": [
    "### Create a dataset from a bayesian network"
   ]
  },
  {
   "cell_type": "code",
   "execution_count": 26,
   "metadata": {},
   "outputs": [],
   "source": [
    "def decisionTreeFromDataset(dataset : pd.DataFrame, target_feature, maximum_depth=3):\n",
    "    encodeCategoricalColumns(dataset)\n",
    "    X = dataset.drop(target_feature, axis=1)\n",
    "    y = dataset[target_feature]\n",
    "\n",
    "    X_train, X_test, y_train, y_test = train_test_split(X, y, test_size=0.2, random_state=42)\n",
    "\n",
    "    rf_model = tree.DecisionTreeClassifier(random_state=42, max_depth=maximum_depth)\n",
    "    rf_model.fit(X_train, y_train)\n",
    "\n",
    "    return rf_model\n",
    "\n",
    "def encodeCategoricalColumns(dataset):\n",
    "    le = LabelEncoder()\n",
    "    categorical_columns = dataset.select_dtypes(include=['object', 'category', 'bool']).columns\n",
    "    for column in categorical_columns:\n",
    "        dataset[column] = le.fit_transform(dataset[column])\n",
    "\n",
    "def datasetFromBayesianNetwork(biffBNFilename, n):\n",
    "    model = gum.loadBN(biffBNFilename)\n",
    "    g = gum.BNDatabaseGenerator(model)\n",
    "    g.setRandomVarOrder()\n",
    "    g.drawSamples(n)\n",
    "    return g.to_pandas()\n",
    "\n",
    "# Create a BNDatabaseGenerator object from the model\n",
    "cancerData = datasetFromBayesianNetwork(\"cancer.bif\", 10000)\n",
    "#print(cancerData.head())\n",
    "\n",
    "# Encode categorical columns\n",
    "\n",
    "dtCancer = decisionTreeFromDataset(cancerData, 'Cancer', 2)\n",
    "dtCancerTree = dtCancer.tree_\n",
    "#tree.plot_tree(dtCancer, feature_names=cancerData.columns)\n",
    "plt.show()\n"
   ]
  },
  {
   "cell_type": "markdown",
   "metadata": {},
   "source": [
    "### Get the underlying structure of tree, converted to network X"
   ]
  },
  {
   "cell_type": "code",
   "execution_count": 34,
   "metadata": {},
   "outputs": [],
   "source": [
    "def obtainTreeStructure(decisionTree : tree.DecisionTreeClassifier, featureNames : list[str]) -> nx.DiGraph:\n",
    "    # Extract the necessary details from the tree\n",
    "    G = nx.DiGraph()\n",
    "    children_left = decisionTree.tree_.children_left\n",
    "    children_right = decisionTree.tree_.children_right\n",
    "    feature = decisionTree.tree_.feature\n",
    "    threshold = decisionTree.tree_.threshold\n",
    "    values = decisionTree.tree_.value\n",
    "\n",
    "    # Stack to keep track of nodes to visit\n",
    "    stack = [(0, 0)]  # start with the root node id (0) and its depth (0)\n",
    "    # Assuming you have a list of feature names\n",
    "\n",
    "    \n",
    "    while len(stack) > 0:\n",
    "        node_id, depth = stack.pop()\n",
    "        # Modify the label to show the actual feature name\n",
    "        G.add_node(node_id, label=f\"{featureNames[feature[node_id]]}\")\n",
    "\n",
    "        # Check if it's a split node (non-leaf)\n",
    "        is_split_node = children_left[node_id] != children_right[node_id]\n",
    "        \n",
    "        if is_split_node:\n",
    "            # Add edges to left and right children\n",
    "            G.add_edge(node_id, children_left[node_id], label=f\"X[{feature[node_id]}] <= {threshold[node_id]:.2f}\")\n",
    "            G.add_edge(node_id, children_right[node_id], label=f\"X[{feature[node_id]}] > {threshold[node_id]:.2f}\")\n",
    "            \n",
    "            # Add children nodes to the stack\n",
    "            stack.append((children_left[node_id], depth + 1))\n",
    "            stack.append((children_right[node_id], depth + 1))\n",
    "        else:\n",
    "            # Leaf node, add node with its value\n",
    "            G.add_node(node_id, label=f\"Leaf {node_id}: {np.around(values[node_id], 3)}\")\n",
    "    return G\n",
    "\n",
    "def drawDecisionTree(decisionTree : nx.DiGraph):\n",
    "    plt.figure(figsize=(12, 8))\n",
    "    pos = nx.nx_agraph.graphviz_layout(decisionTree, prog=\"dot\") #To have a tree layout\n",
    "    nx.draw(decisionTree, pos, with_labels=True, labels={n: decisionTree.nodes[n].get('label', str(n)) for n in decisionTree.nodes()})\n",
    "    nx.draw_networkx_edge_labels(decisionTree, pos, edge_labels=nx.get_edge_attributes(decisionTree, 'label'))\n",
    "    plt.show()\n",
    "\n",
    "networkTree = obtainTreeStructure(dtCancer, cancerData.columns)\n",
    "#drawDecisionTree(networkTree)\n",
    "\n",
    "#graph.nodes[node_id]['label']\n"
   ]
  }
 ],
 "metadata": {
  "kernelspec": {
   "display_name": "Python 3",
   "language": "python",
   "name": "python3"
  },
  "language_info": {
   "codemirror_mode": {
    "name": "ipython",
    "version": 3
   },
   "file_extension": ".py",
   "mimetype": "text/x-python",
   "name": "python",
   "nbconvert_exporter": "python",
   "pygments_lexer": "ipython3",
   "version": "3.10.12"
  }
 },
 "nbformat": 4,
 "nbformat_minor": 2
}
