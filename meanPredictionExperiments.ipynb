{
 "cells": [
  {
   "cell_type": "markdown",
   "metadata": {},
   "source": [
    "##### Imports"
   ]
  },
  {
   "cell_type": "code",
   "execution_count": 7,
   "metadata": {},
   "outputs": [],
   "source": [
    "import asvFormula.experiments as exp\n",
    "from asvFormula.bayesianNetworks.bayesianNetwork import childBNAsTree\n",
    "from asvFormula.bayesianNetworks import networkSamplesPath\n",
    "from asvFormula import asvRunResultsPath\n",
    "from asvFormula.datasetManipulation import *\n",
    "from pgmpy.readwrite import BIFReader\n",
    "from pgmpy.inference import VariableElimination\n",
    "\n",
    "from importlib import reload \n",
    "import asvFormula\n",
    "import asvFormula.experiments as exp\n",
    "\n",
    "exp = reload(asvFormula.experiments)\n",
    "\n",
    "#TODO: Fix the seed and the random so that I can reproduce the results. Right now it's not changing anything the seed method. \n",
    "decisionTreesFolder = 'results/decisionTrees/'"
   ]
  },
  {
   "cell_type": "markdown",
   "metadata": {},
   "source": [
    "### Running ASV for Cancer bayesian network"
   ]
  },
  {
   "cell_type": "markdown",
   "metadata": {},
   "source": [
    "#### Train the decision tree model"
   ]
  },
  {
   "cell_type": "code",
   "execution_count": 2,
   "metadata": {},
   "outputs": [
    {
     "data": {
      "application/vnd.jupyter.widget-view+json": {
       "model_id": "51d62e4a02924215b119ea0cf65da5af",
       "version_major": 2,
       "version_minor": 0
      },
      "text/plain": [
       "  0%|          | 0/5 [00:00<?, ?it/s]"
      ]
     },
     "metadata": {},
     "output_type": "display_data"
    },
    {
     "name": "stdout",
     "output_type": "stream",
     "text": [
      "The model accuracy is : 0.75\n"
     ]
    }
   ],
   "source": [
    "BNmodel, variableToPredict, numberOfSamples, treeMaxDepth = exp.cancerNetworkConfig()\n",
    "\n",
    "BNInference, valuesPerFeature, encodedDataset, dtTreeClassifier, dtAsNetwork = initializeDataAndRemoveVariable(BNmodel, variableToPredict, numberOfSamples, treeMaxDepth)"
   ]
  },
  {
   "cell_type": "markdown",
   "metadata": {},
   "source": [
    "#### Mean prediction of model"
   ]
  },
  {
   "cell_type": "code",
   "execution_count": null,
   "metadata": {},
   "outputs": [],
   "source": [
    "dataNoPrediction = encodedDataset.drop(variableToPredict, axis=1)\n",
    "first_instance = dataNoPrediction.iloc[0]\n",
    "\n",
    "asvCalc = exp.ASV(BNmodel, dtTreeClassifier, BNInference, valuesPerFeature, variableToPredict, 'Exact', first_instance)\n",
    "\n",
    "# Use the complete bayesian network to calculate the mean prediction\n",
    "cancerNetworkPath = networkSamplesPath + '/cancer.bif'\n",
    "completeBNModel = BIFReader(cancerNetworkPath).get_model()\n",
    "num_variables = len(completeBNModel.nodes())\n",
    "\n",
    "completeBNInference = VariableElimination(completeBNModel)\n",
    "\n",
    "exp.showMeanPredictionOfModel(variableToPredict, completeBNInference, valuesPerFeature, dtTreeClassifier, asvCalc, num_variables)"
   ]
  },
  {
   "cell_type": "code",
   "execution_count": null,
   "metadata": {},
   "outputs": [],
   "source": [
    "drawDecisionTree(dtAsNetwork, decisionTreesFolder + 'cancerDecisionTree.png')"
   ]
  },
  {
   "cell_type": "markdown",
   "metadata": {},
   "source": [
    "### Running ASV for Child bayesian network"
   ]
  },
  {
   "cell_type": "markdown",
   "metadata": {},
   "source": [
    "#### Train the decision tree model"
   ]
  },
  {
   "cell_type": "code",
   "execution_count": 8,
   "metadata": {},
   "outputs": [
    {
     "data": {
      "application/vnd.jupyter.widget-view+json": {
       "model_id": "2a6dac8b2aba4613929f352bf2733bf7",
       "version_major": 2,
       "version_minor": 0
      },
      "text/plain": [
       "  0%|          | 0/20 [00:00<?, ?it/s]"
      ]
     },
     "metadata": {},
     "output_type": "display_data"
    },
    {
     "name": "stderr",
     "output_type": "stream",
     "text": [
      "WARNING:pgmpy:Probability values don't exactly sum to 1. Differ by: -2.220446049250313e-16. Adjusting values.\n",
      "WARNING:pgmpy:Probability values don't exactly sum to 1. Differ by: 3.3306690738754696e-16. Adjusting values.\n"
     ]
    },
    {
     "name": "stdout",
     "output_type": "stream",
     "text": [
      "The model accuracy is : 0.6775\n"
     ]
    }
   ],
   "source": [
    "BNmodel, variableToPredict, numberOfSamples, treeMaxDepth = exp.childNetworkConfig()\n",
    "\n",
    "BNInference, valuesPerFeature, encodedDataset, dtTreeClassifier, dtAsNetwork = initializeDataAndRemoveVariable(BNmodel, variableToPredict, numberOfSamples, treeMaxDepth)\n"
   ]
  },
  {
   "cell_type": "markdown",
   "metadata": {},
   "source": [
    "#### Mean prediction of model"
   ]
  },
  {
   "cell_type": "code",
   "execution_count": 9,
   "metadata": {},
   "outputs": [
    {
     "name": "stdout",
     "output_type": "stream",
     "text": [
      "Mean prediction of model for the variable Age\n",
      "Mean prediction value for the decision tree: [0.91015963 0.08567794 0.00416244], it took 0.02559449950058479 seconds\n",
      "Mean prediction value for the probabilities of the decision tree: [0.46882975 0.30544683 0.22572341], it took 0.02559449950058479 seconds\n",
      "Mean prediction value for possible values of the dataset: [0.9094002666666664, 0.0849069333333333, 0.005692799999999999], it took 162.98994096800016 seconds\n",
      "Estimated value for shap explainer: [0.686    0.142125 0.171875]\n",
      "Probabilities of the variable in the bayesian network: [0.6489918355500001, 0.17148510286900004, 0.17952306158100004]\n"
     ]
    }
   ],
   "source": [
    "dataNoPrediction = encodedDataset.drop(variableToPredict, axis=1)\n",
    "first_instance = dataNoPrediction.iloc[0]\n",
    "\n",
    "asvCalc = exp.ASV(BNmodel, dtTreeClassifier, BNInference, valuesPerFeature, variableToPredict, 'Exact', first_instance)\n",
    "\n",
    "# Use the complete bayesian network to calculate the mean prediction\n",
    "childNetworkPath = networkSamplesPath + '/child.bif'\n",
    "completeBNModel = BIFReader(childNetworkPath).get_model()\n",
    "completeBNInference = VariableElimination(completeBNModel)\n",
    "num_variables = len(completeBNModel.nodes())\n",
    "\n",
    "exp.showMeanPredictionOfModel(variableToPredict, completeBNInference, valuesPerFeature, dtTreeClassifier, asvCalc, 11)\n",
    "#drawDecisionTree(dtAsNetwork, decisionTreesFolder + 'childDecisionTree.png')\n",
    "\n",
    "#The prediction for the first instance is 0, so if a lot of the features are fixed, then there is a higher chance that the prediction is 0.\n",
    "\n"
   ]
  }
 ],
 "metadata": {
  "kernelspec": {
   "display_name": "Python 3",
   "language": "python",
   "name": "python3"
  },
  "language_info": {
   "codemirror_mode": {
    "name": "ipython",
    "version": 3
   },
   "file_extension": ".py",
   "mimetype": "text/x-python",
   "name": "python",
   "nbconvert_exporter": "python",
   "pygments_lexer": "ipython3",
   "version": "3.10.12"
  }
 },
 "nbformat": 4,
 "nbformat_minor": 2
}
