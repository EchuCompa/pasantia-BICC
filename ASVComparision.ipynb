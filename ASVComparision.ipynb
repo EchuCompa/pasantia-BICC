{
 "cells": [
  {
   "cell_type": "markdown",
   "metadata": {},
   "source": [
    "##### Imports"
   ]
  },
  {
   "cell_type": "code",
   "execution_count": 10,
   "metadata": {},
   "outputs": [],
   "source": [
    "from asvFormula.bayesianNetworks.bayesianNetwork import *\n",
    "from asvFormula.bayesianNetworks import networkSamplesPath\n",
    "from asvFormula.datasetManipulation import *\n",
    "from asvFormula.exactASV import showASVandShapleyFor, ASV\n",
    "import random \n",
    "from pgmpy.readwrite import BIFReader\n",
    "from pgmpy.inference import VariableElimination\n",
    "import numpy as np\n",
    "\n",
    "#TODO: I should add classes and assign responsibilities to them. All of the functions are mixed and I have multiple variables flying. "
   ]
  },
  {
   "cell_type": "code",
   "execution_count": 24,
   "metadata": {},
   "outputs": [
    {
     "data": {
      "text/plain": [
       "<module 'asvFormula.bayesianNetworks.bayesianNetwork' from '/home/echu/tesis/pasantia-BICC/asvFormula/bayesianNetworks/bayesianNetwork.py'>"
      ]
     },
     "execution_count": 24,
     "metadata": {},
     "output_type": "execute_result"
    }
   ],
   "source": [
    "import importlib\n",
    "\n",
    "import asvFormula.bayesianNetworks.bayesianNetwork\n",
    "\n",
    "# Reload the module\n",
    "importlib.reload(asvFormula.bayesianNetworks.bayesianNetwork)"
   ]
  },
  {
   "cell_type": "markdown",
   "metadata": {},
   "source": [
    "## Running ASV in Python"
   ]
  },
  {
   "cell_type": "markdown",
   "metadata": {},
   "source": [
    "#### Train the decision tree model"
   ]
  },
  {
   "cell_type": "code",
   "execution_count": 12,
   "metadata": {},
   "outputs": [
    {
     "data": {
      "application/vnd.jupyter.widget-view+json": {
       "model_id": "f34b4ddb3df748f8bea2f92784040f17",
       "version_major": 2,
       "version_minor": 0
      },
      "text/plain": [
       "  0%|          | 0/5 [00:00<?, ?it/s]"
      ]
     },
     "metadata": {},
     "output_type": "display_data"
    },
    {
     "name": "stdout",
     "output_type": "stream",
     "text": [
      "The model accuracy is : 0.8775\n"
     ]
    }
   ],
   "source": [
    "random.seed(10)\n",
    "\n",
    "cancerNetworkPath = networkSamplesPath + \"/cancer.bif\"\n",
    "#cancerNetworkPath = networkSamplesPath + \"/cancer_tree.bif\"\n",
    "\n",
    "BNmodel = BIFReader(cancerNetworkPath).get_model()\n",
    "\n",
    "variableToPredict = \"Pollution\"\n",
    "treeMaxDepth = 3\n",
    "# Create a BNDatabaseGenerator object from the model\n",
    "dataFromBN = datasetFromBayesianNetwork(BNmodel, 2000)\n",
    "\n",
    "BNmodel.remove_node(variableToPredict) # We remove the variable to predict from the BN model so that we won't have this information when we are going to predict it\n",
    "BNInference = VariableElimination(BNmodel)\n",
    "\n",
    "featureColumns = list(dataFromBN.columns)\n",
    "featureColumns.remove(variableToPredict)  \n",
    "valuesPerFeature, encodedDataset = encodeCategoricalColumns(dataFromBN)\n",
    "dtTreeClassifier = decisionTreeFromDataset(encodedDataset, variableToPredict , treeMaxDepth)\n",
    "\n",
    "dtAsNetwork = obtainNetworkXTreeStructure(dtTreeClassifier, featureColumns)"
   ]
  },
  {
   "cell_type": "markdown",
   "metadata": {},
   "source": [
    "#### Compute the ASV vs the Shapley Value"
   ]
  },
  {
   "cell_type": "code",
   "execution_count": 13,
   "metadata": {},
   "outputs": [
    {
     "name": "stdout",
     "output_type": "stream",
     "text": [
      "ASV values for the first instance:\n",
      "ASV for Cancer: -2.220446049250313e-16\n",
      "ASV for Xray: 0.0\n",
      "ASV for Smoker: 0.0025725000000003106\n",
      "ASV for Dyspnoea: 0.0\n",
      "Sum of ASV values: 0.0025725000000000886\n",
      "Shapley values for the first instance:\n",
      "Feature: Cancer, Shapley Value: 0.0006280559424487835\n",
      "Feature: Xray, Shapley Value: -0.005878832218506127\n",
      "Feature: Smoker, Shapley Value: 0.014717880243693726\n",
      "Feature: Dyspnoea, Shapley Value: 0.006701374293232981\n",
      "Sum of Shapley values: 0.01616847826086936\n"
     ]
    }
   ],
   "source": [
    "asvCalc = ASV(BNmodel, dtTreeClassifier, BNInference, valuesPerFeature)\n",
    "\n",
    "dataNoPrediction = encodedDataset.drop(variableToPredict, axis=1)\n",
    "first_instance = dataNoPrediction.iloc[0]\n",
    "\n",
    "showASVandShapleyFor(first_instance, featureColumns, dtTreeClassifier, asvCalc)\n"
   ]
  },
  {
   "cell_type": "markdown",
   "metadata": {},
   "source": [
    "#### Mean prediction of model"
   ]
  },
  {
   "cell_type": "code",
   "execution_count": 14,
   "metadata": {},
   "outputs": [],
   "source": [
    "# Use the complete bayesian network to calculate the mean prediction\n",
    "completeBNModel = BIFReader(cancerNetworkPath).get_model()\n",
    "completeBNInference = VariableElimination(completeBNModel)"
   ]
  },
  {
   "cell_type": "code",
   "execution_count": 26,
   "metadata": {},
   "outputs": [
    {
     "name": "stdout",
     "output_type": "stream",
     "text": [
      "Predicting the value high for the variable Pollution\n",
      "Mean prediction value for the model: 0.09784322715719065\n",
      "Estimated value for shap explainer: 0.103125\n",
      "Probability in the bayesian network for the variable 0.1\n"
     ]
    }
   ],
   "source": [
    "showMeanPredictionOfModel('high', variableToPredict, completeBNInference, valuesPerFeature, dtTreeClassifier)"
   ]
  }
 ],
 "metadata": {
  "kernelspec": {
   "display_name": "Python 3",
   "language": "python",
   "name": "python3"
  },
  "language_info": {
   "codemirror_mode": {
    "name": "ipython",
    "version": 3
   },
   "file_extension": ".py",
   "mimetype": "text/x-python",
   "name": "python",
   "nbconvert_exporter": "python",
   "pygments_lexer": "ipython3",
   "version": "3.10.12"
  }
 },
 "nbformat": 4,
 "nbformat_minor": 2
}
