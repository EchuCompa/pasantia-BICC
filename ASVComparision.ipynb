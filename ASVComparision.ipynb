{
 "cells": [
  {
   "cell_type": "markdown",
   "metadata": {},
   "source": [
    "##### Imports"
   ]
  },
  {
   "cell_type": "code",
   "execution_count": 1,
   "metadata": {},
   "outputs": [],
   "source": [
    "from  asvFormula.classesSizes.recursiveFormula import *\n",
    "from asvFormula.bayesianNetworks.bayesianNetwork import *\n",
    "from asvFormula.bayesianNetworks import networkSamplesPath\n",
    "from asvFormula.datasetManipulation import *\n",
    "import pandas as pd\n",
    "from typing import List\n",
    "import numpy as np\n",
    "import random \n",
    "from pgmpy.readwrite import BIFReader\n",
    "from pgmpy.inference import VariableElimination\n",
    "import random\n",
    "import shap\n",
    "import sys,os\n",
    "\n",
    "from sklearn.preprocessing import LabelEncoder"
   ]
  },
  {
   "cell_type": "markdown",
   "metadata": {},
   "source": [
    "### Auxiliary Functions"
   ]
  },
  {
   "cell_type": "code",
   "execution_count": 2,
   "metadata": {},
   "outputs": [],
   "source": [
    "printEnabled = True\n",
    "def disablePrint():\n",
    "    global printEnabled\n",
    "    if printEnabled:\n",
    "        sys._jupyter_stdout = sys.stdout\n",
    "        sys.stdout = open(os.devnull, 'w')\n",
    "        printEnabled = False\n",
    "\n",
    "def enablePrint():\n",
    "    global printEnabled\n",
    "    printEnabled = True\n",
    "    sys.stdout.close()\n",
    "    sys.stdout = sys._jupyter_stdout\n",
    "\n",
    "def convertDictToCsv(dict, filename):\n",
    "\n",
    "    df = pd.DataFrame.from_dict(dict, orient='index')\n",
    "\n",
    "    # Save the DataFrame to a CSV file\n",
    "    df.to_csv(filename)"
   ]
  },
  {
   "cell_type": "markdown",
   "metadata": {},
   "source": [
    "## Running ASV in Python"
   ]
  },
  {
   "cell_type": "markdown",
   "metadata": {},
   "source": [
    "#### Train the decision tree model"
   ]
  },
  {
   "cell_type": "code",
   "execution_count": 3,
   "metadata": {},
   "outputs": [
    {
     "data": {
      "application/vnd.jupyter.widget-view+json": {
       "model_id": "32dd8bdb965348e5a631606b83deeda0",
       "version_major": 2,
       "version_minor": 0
      },
      "text/plain": [
       "  0%|          | 0/5 [00:00<?, ?it/s]"
      ]
     },
     "metadata": {},
     "output_type": "display_data"
    },
    {
     "name": "stdout",
     "output_type": "stream",
     "text": [
      "The model accuracy is : 0.885\n"
     ]
    }
   ],
   "source": [
    "random.seed(10)\n",
    "\n",
    "cancerNetworkPath = networkSamplesPath + \"/cancer.bif\"\n",
    "#cancerNetworkPath = networkSamplesPath + \"/cancer_tree.bif\"\n",
    "\n",
    "BNmodel = BIFReader(cancerNetworkPath).get_model()\n",
    "\n",
    "variableToPredict = \"Pollution\"\n",
    "treeMaxDepth = 3\n",
    "# Create a BNDatabaseGenerator object from the model\n",
    "dataFromBN = datasetFromBayesianNetwork(BNmodel, 2000)\n",
    "\n",
    "BNmodel.remove_node(variableToPredict) # We remove the variable to predict from the BN model so that we won't have this information when we are going to predict it\n",
    "BNInference = VariableElimination(BNmodel)\n",
    "\n",
    "featureColumns = list(dataFromBN.columns)\n",
    "featureColumns.remove(variableToPredict)  \n",
    "valuesPerFeature, encodedDataset = encodeCategoricalColumns(dataFromBN)\n",
    "dtTreeClassifier = decisionTreeFromDataset(encodedDataset, variableToPredict , treeMaxDepth)\n",
    "\n",
    "dtAsNetwork = obtainNetworkXTreeStructure(dtTreeClassifier, featureColumns)"
   ]
  },
  {
   "cell_type": "markdown",
   "metadata": {},
   "source": [
    "#### ASV Computation"
   ]
  },
  {
   "cell_type": "code",
   "execution_count": 14,
   "metadata": {},
   "outputs": [],
   "source": [
    "def asvForFeature(dag : nx.DiGraph, feature : str, instance : pd.Series, model, dataset : pd.DataFrame, feature_distributions : VariableElimination) -> float:\n",
    "\n",
    "    equivalenceClasses = equivalenceClassesFor(dag, feature)\n",
    "    asvValue = 0\n",
    "    for equivalenceClass in equivalenceClasses:\n",
    "        classFeaturesOrder = equivalenceClass[0]\n",
    "        classSize = equivalenceClass[1]\n",
    "        asvValue += classSize * meanPredictionForEquivalenceClass(classFeaturesOrder, feature, instance, model, dataset, feature_distributions)\n",
    "\n",
    "    return asvValue\n",
    "\n",
    "def meanPredictionForEquivalenceClass(classFeaturesOrder : List[str], feature : str, instance : pd.Series, model, dataset : pd.DataFrame, feature_distributions : VariableElimination) -> float:\n",
    "    \n",
    "    realFeatures = classFeaturesOrder[:classFeaturesOrder.index(feature)]\n",
    "    \n",
    "    matching_mask = (dataset[realFeatures] == instance[realFeatures]).all(axis=1)\n",
    "    matching_instances = dataset[matching_mask]\n",
    "\n",
    "    predictions = model.predict(matching_instances)\n",
    "    realFeaturesTuple = tuple(realFeatures)\n",
    "    probabilities = matching_instances.apply(lambda row: cached_prob_of_instance(tuple(row), realFeaturesTuple, feature_distributions, tuple(row.index)), axis=1)\n",
    "\n",
    "    meanPrediction = np.dot(predictions, probabilities)/len(matching_instances)\n",
    "\n",
    "    return meanPrediction\n",
    "\n",
    "from functools import lru_cache\n",
    "\n",
    "@lru_cache(maxsize=None)\n",
    "def cached_prob_of_instance(tuple_instance: Tuple, realFeaturesTuple: Tuple[str], feature_distributions, rowIndex : Tuple) -> float:\n",
    "    # Convert tuple back to pandas Series\n",
    "    matching_instance = pd.Series(data=list(tuple_instance),index=list(rowIndex) )\n",
    "    return probOfInstance(matching_instance, list(realFeaturesTuple), feature_distributions)\n",
    "\n",
    "def probOfInstance(matchingInstance : pd.Series, realFeatures : List[str], feature_distributions : VariableElimination) -> float:\n",
    "    decodedInstance = decodeInstance(matchingInstance, valuesPerFeature)\n",
    "    priorEvidence = {realFeature : decodedInstance[realFeature] for realFeature in realFeatures}\n",
    "    variablesToEstimate = [feature for feature in decodedInstance.keys() if feature not in realFeatures]\n",
    "    \n",
    "    inference = feature_distributions.query(variables=variablesToEstimate, evidence=priorEvidence)\n",
    "    \n",
    "    return inference.get_value(**{var : decodedInstance[var] for var in variablesToEstimate})\n",
    "\n",
    "def decodeInstance(instance : pd.Series, valuesPerFeature : dict[str, list]) -> pd.Series:\n",
    "    decodedInstance = instance.copy()\n",
    "    for feature in instance.keys():\n",
    "        if feature in valuesPerFeature:\n",
    "            decodedInstance[feature] = valuesPerFeature[feature][instance[feature]]\n",
    "    return decodedInstance"
   ]
  },
  {
   "cell_type": "markdown",
   "metadata": {},
   "source": [
    "#### Compute the ASV vs the Shapley Value"
   ]
  },
  {
   "cell_type": "code",
   "execution_count": 15,
   "metadata": {},
   "outputs": [
    {
     "name": "stdout",
     "output_type": "stream",
     "text": [
      "ASV values for the first instance:\n",
      "ASV for Smoker: 0.43432893300000014\n",
      "ASV for Xray: 1.0556404873062784\n",
      "ASV for Dyspnoea: 0.9724617217162561\n",
      "ASV for Cancer: 0.7644915973741797\n",
      "Shapley values for the first instance:\n",
      "Feature: Smoker, Shapley Value: 0.012805409692227841\n",
      "Feature: Xray, Shapley Value: 0.001666666716337204\n",
      "Feature: Dyspnoea, Shapley Value: 0.010286056399345399\n",
      "Feature: Cancer, Shapley Value: -0.00563046932220459\n"
     ]
    }
   ],
   "source": [
    "dataNoPrediction = encodedDataset.drop(variableToPredict, axis=1)\n",
    "first_instance = dataNoPrediction.iloc[0]\n",
    "\n",
    "print(\"ASV values for the first instance:\")\n",
    "for feature in featureColumns:\n",
    "    print(f\"ASV for {feature}: {asvForFeature(BNmodel, feature, first_instance, dtTreeClassifier, dataNoPrediction, BNInference)}\")\n",
    "\n",
    "explainer = shap.TreeExplainer(dtTreeClassifier, dataNoPrediction)\n",
    "shap_values = explainer.shap_values(first_instance)\n",
    "\n",
    "print(\"Shapley values for the first instance:\")\n",
    "for feature, shap_value in zip(featureColumns, shap_values):\n",
    "    print(f\"Feature: {feature}, Shapley Value: {shap_value[0]}\")"
   ]
  },
  {
   "cell_type": "code",
   "execution_count": 7,
   "metadata": {},
   "outputs": [
    {
     "data": {
      "image/png": "[encoded data removed]",
      "text/plain": [
       "<Figure size 640x480 with 1 Axes>"
      ]
     },
     "metadata": {},
     "output_type": "display_data"
    }
   ],
   "source": [
    "drawGraph(BNmodel)"
   ]
  }
 ],
 "metadata": {
  "kernelspec": {
   "display_name": "Python 3",
   "language": "python",
   "name": "python3"
  },
  "language_info": {
   "codemirror_mode": {
    "name": "ipython",
    "version": 3
   },
   "file_extension": ".py",
   "mimetype": "text/x-python",
   "name": "python",
   "nbconvert_exporter": "python",
   "pygments_lexer": "ipython3",
   "version": "3.10.12"
  }
 },
 "nbformat": 4,
 "nbformat_minor": 2
}
