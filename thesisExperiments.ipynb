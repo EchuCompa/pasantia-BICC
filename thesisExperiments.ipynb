{
 "cells": [
  {
   "cell_type": "markdown",
   "metadata": {},
   "source": [
    "##### Imports"
   ]
  },
  {
   "cell_type": "code",
   "execution_count": 1,
   "metadata": {},
   "outputs": [],
   "source": [
    "import asvFormula.experiments as exp\n",
    "from asvFormula.bayesianNetworks import networkSamplesPath\n",
    "from asvFormula import asvRunResultsPath\n",
    "from asvFormula.datasetManipulation import *\n",
    "from asvFormula.digraph import hasUnderlyingTree\n",
    "from pgmpy.readwrite import BIFReader\n",
    "from pgmpy.inference import VariableElimination\n",
    "\n",
    "from importlib import reload \n",
    "import asvFormula\n",
    "import asvFormula.experiments as exp\n",
    "\n",
    "exp = reload(asvFormula.experiments)\n",
    "\n",
    "#TODO: Fix the seed and the random so that I can reproduce the results. Right now it's not changing anything the seed method. "
   ]
  },
  {
   "cell_type": "markdown",
   "metadata": {},
   "source": [
    "### Running ASV for Cancer bayesian network"
   ]
  },
  {
   "cell_type": "markdown",
   "metadata": {},
   "source": [
    "#### Train the decision tree model"
   ]
  },
  {
   "cell_type": "code",
   "execution_count": 2,
   "metadata": {},
   "outputs": [
    {
     "data": {
      "application/vnd.jupyter.widget-view+json": {
       "model_id": "c58d9c97bb3d4c359bb7c56b0ac2e94a",
       "version_major": 2,
       "version_minor": 0
      },
      "text/plain": [
       "  0%|          | 0/5 [00:00<?, ?it/s]"
      ]
     },
     "metadata": {},
     "output_type": "display_data"
    },
    {
     "name": "stdout",
     "output_type": "stream",
     "text": [
      "The model accuracy is : 0.905\n"
     ]
    }
   ],
   "source": [
    "cancerNetworkPath = networkSamplesPath + \"/cancer.bif\"\n",
    "BNmodel = BIFReader(cancerNetworkPath).get_model()\n",
    "variableToPredict = \"Pollution\"\n",
    "numberOfSamples = 2000\n",
    "treeMaxDepth = 5\n",
    "\n",
    "BNInference, valuesPerFeature, encodedDataset, dtTreeClassifier, dtAsNetwork = initializeDataAndRemoveVariable(BNmodel, variableToPredict, numberOfSamples, treeMaxDepth)\n",
    "#drawDecisionTree(dtAsNetwork)"
   ]
  },
  {
   "cell_type": "markdown",
   "metadata": {},
   "source": [
    "#### Mean prediction of model"
   ]
  },
  {
   "cell_type": "code",
   "execution_count": 3,
   "metadata": {},
   "outputs": [
    {
     "name": "stdout",
     "output_type": "stream",
     "text": [
      "Mean prediction of model for the variable Pollution\n",
      "Mean prediction value for the decision tree: [0.0909602 0.9090398], it took 0.009067400000276393 seconds\n",
      "Mean prediction value for possible values of the dataset: [0.007350000000000001, 0.99265], it took 0.01649730000008276 seconds\n",
      "Estimated value for shap explainer: [0.09125 0.90875]\n",
      "Probabilities of the variable in the bayesian network: [0.1, 0.9]\n"
     ]
    }
   ],
   "source": [
    "dataNoPrediction = encodedDataset.drop(variableToPredict, axis=1)\n",
    "first_instance = dataNoPrediction.iloc[0]\n",
    "\n",
    "asvCalc = exp.ASV(BNmodel, dtTreeClassifier, BNInference, valuesPerFeature, variableToPredict, 'Exact', first_instance)\n",
    "\n",
    "# Use the complete bayesian network to calculate the mean prediction\n",
    "completeBNModel = BIFReader(cancerNetworkPath).get_model()\n",
    "num_variables = len(completeBNModel.nodes())\n",
    "\n",
    "completeBNInference = VariableElimination(completeBNModel)\n",
    "\n",
    "exp.showMeanPredictionOfModel(variableToPredict, completeBNInference, valuesPerFeature, dtTreeClassifier, asvCalc, num_variables)\n"
   ]
  },
  {
   "cell_type": "code",
   "execution_count": 4,
   "metadata": {},
   "outputs": [
    {
     "data": {
      "text/plain": [
       "'Pollution'"
      ]
     },
     "execution_count": 4,
     "metadata": {},
     "output_type": "execute_result"
    }
   ],
   "source": [
    "variableToPredict"
   ]
  },
  {
   "cell_type": "markdown",
   "metadata": {},
   "source": [
    "### Running ASV for Child bayesian network"
   ]
  },
  {
   "cell_type": "markdown",
   "metadata": {},
   "source": [
    "#### Train the decision tree model"
   ]
  },
  {
   "cell_type": "code",
   "execution_count": 5,
   "metadata": {},
   "outputs": [
    {
     "data": {
      "application/vnd.jupyter.widget-view+json": {
       "model_id": "2667554f95924bcdb9329b3991b74e17",
       "version_major": 2,
       "version_minor": 0
      },
      "text/plain": [
       "  0%|          | 0/20 [00:00<?, ?it/s]"
      ]
     },
     "metadata": {},
     "output_type": "display_data"
    },
    {
     "name": "stderr",
     "output_type": "stream",
     "text": [
      "WARNING:pgmpy:Probability values don't exactly sum to 1. Differ by: -2.220446049250313e-16. Adjusting values.\n",
      "WARNING:pgmpy:Probability values don't exactly sum to 1. Differ by: 3.3306690738754696e-16. Adjusting values.\n"
     ]
    },
    {
     "name": "stdout",
     "output_type": "stream",
     "text": [
      "The model accuracy is : 0.6755\n"
     ]
    }
   ],
   "source": [
    "childNetworkPath = networkSamplesPath + \"/child.bif\"\n",
    "\n",
    "def childBNAsTree(childNetworkPath):\n",
    "    treeBNChild = BIFReader(childNetworkPath).get_model()\n",
    "\n",
    "    #I remove this edges so that it is a tree and we can work with it\n",
    "    removeEdgeAndMarginalizeCPD(treeBNChild, 'LungParench', 'Grunting')\n",
    "    removeEdgeAndMarginalizeCPD(treeBNChild, 'LungParench', 'HypoxiaInO2')\n",
    "    removeEdgeAndMarginalizeCPD(treeBNChild, 'HypoxiaInO2', 'LowerBodyO2')\n",
    "    removeEdgeAndMarginalizeCPD(treeBNChild, 'CardiacMixing', 'HypDistrib')\n",
    "    removeEdgeAndMarginalizeCPD(treeBNChild, 'Sick', 'Age')\n",
    "    removeEdgeAndMarginalizeCPD(treeBNChild, 'LungFlow', 'ChestXray')\n",
    "\n",
    "    assert hasUnderlyingTree(treeBNChild)\n",
    "    return treeBNChild\n",
    "\n",
    "treeBNChild = childBNAsTree(childNetworkPath)\n",
    "variableToPredict = \"Age\"\n",
    "numberOfSamples = 10000\n",
    "treeMaxDepth = 7\n",
    "\n",
    "BNInference, valuesPerFeature, encodedDataset, dtTreeClassifier, dtAsNetwork = initializeDataAndRemoveVariable(treeBNChild, variableToPredict, numberOfSamples, treeMaxDepth)\n"
   ]
  },
  {
   "cell_type": "markdown",
   "metadata": {},
   "source": [
    "#### Mean prediction of model"
   ]
  },
  {
   "cell_type": "code",
   "execution_count": 9,
   "metadata": {},
   "outputs": [
    {
     "name": "stdout",
     "output_type": "stream",
     "text": [
      "Mean prediction of model for the variable Age\n",
      "Mean prediction value for the decision tree: [0.68851015 0.13590638 0.17604583], it took 0.1552386090006621 seconds\n",
      "Mean prediction value for possible values of the dataset: [0.996717443108697, 0.000578492552145865, 0.002704064339157585], it took 116.19580318800035 seconds\n",
      "Estimated value for shap explainer: [0.691125 0.13525  0.173625]\n",
      "Probabilities of the variable in the bayesian network: [0.6489918355500001, 0.17148510286900004, 0.17952306158100004]\n"
     ]
    }
   ],
   "source": [
    "dataNoPrediction = encodedDataset.drop(variableToPredict, axis=1)\n",
    "first_instance = dataNoPrediction.iloc[0]\n",
    "\n",
    "asvCalc = exp.ASV(treeBNChild, dtTreeClassifier, BNInference, valuesPerFeature, variableToPredict, 'Exact', first_instance)\n",
    "\n",
    "# Use the complete bayesian network to calculate the mean prediction\n",
    "completeBNModel = BIFReader(childNetworkPath).get_model()\n",
    "completeBNInference = VariableElimination(completeBNModel)\n",
    "num_variables = len(completeBNModel.nodes())\n",
    "\n",
    "exp.showMeanPredictionOfModel(variableToPredict, completeBNInference, valuesPerFeature, dtTreeClassifier, asvCalc, 11)\n",
    "\n",
    "#The prediction for the first instance is 0, so if a lot of the features are fixed, then there is a higher chance that the prediction is 0.\n"
   ]
  },
  {
   "cell_type": "markdown",
   "metadata": {},
   "source": [
    "#### ASV + Shapley"
   ]
  },
  {
   "cell_type": "code",
   "execution_count": null,
   "metadata": {},
   "outputs": [],
   "source": [
    "asvCalc = exp.ASV(treeBNChild, dtTreeClassifier, BNInference, valuesPerFeature, variableToPredict, predictionFunction = 'Mean')\n",
    "\n",
    "dataNoPrediction = encodedDataset.drop(variableToPredict, axis=1)\n",
    "first_instance = dataNoPrediction.iloc[0]\n",
    "\n",
    "exp.writeASVAndShapleyIntoFile(first_instance, list(dataNoPrediction.columns), dtTreeClassifier, asvCalc, asvRunResultsPath + \"/childASVAndShapleyMean.csv\", valuesPerFeature, variableToPredict)"
   ]
  },
  {
   "cell_type": "code",
   "execution_count": null,
   "metadata": {},
   "outputs": [],
   "source": [
    "asvCalc = exp.ASV(treeBNChild, dtTreeClassifier, BNInference, valuesPerFeature, variableToPredict, predictionFunction='Exact')\n",
    "\n",
    "dataNoPrediction = encodedDataset.drop(variableToPredict, axis=1)\n",
    "first_instance = dataNoPrediction.iloc[0]\n",
    "\n",
    "exp.writeASVAndShapleeyIntoFile(first_instance, list(dataNoPrediction.columns), dtTreeClassifier, asvCalc, asvRunResultsPath + \"/childASVAndShapleyExact.csv\", valuesPerFeature, variableToPredict)"
   ]
  },
  {
   "cell_type": "markdown",
   "metadata": {},
   "source": [
    "#### Mean Prediction"
   ]
  },
  {
   "cell_type": "code",
   "execution_count": null,
   "metadata": {},
   "outputs": [],
   "source": [
    "# Use the complete bayesian network to calculate the mean prediction\n",
    "completeBNModel = BIFReader(childNetworkPath).get_model()\n",
    "completeBNInference = VariableElimination(completeBNModel)"
   ]
  },
  {
   "cell_type": "code",
   "execution_count": null,
   "metadata": {},
   "outputs": [],
   "source": [
    "exp.showMeanPredictionOfModel(variableToPredict, completeBNInference, valuesPerFeature, dtTreeClassifier)"
   ]
  },
  {
   "cell_type": "code",
   "execution_count": null,
   "metadata": {},
   "outputs": [],
   "source": [
    "dtAsNetwork = exp.obtainDecisionTreeDigraph(dtTreeClassifier, dataNoPrediction.columns)\n",
    "#exp.drawDecisionTree(dtAsNetwork)\n",
    "#exp.drawGraph(treeBNChild)"
   ]
  }
 ],
 "metadata": {
  "kernelspec": {
   "display_name": "Python 3",
   "language": "python",
   "name": "python3"
  },
  "language_info": {
   "codemirror_mode": {
    "name": "ipython",
    "version": 3
   },
   "file_extension": ".py",
   "mimetype": "text/x-python",
   "name": "python",
   "nbconvert_exporter": "python",
   "pygments_lexer": "ipython3",
   "version": "3.10.12"
  }
 },
 "nbformat": 4,
 "nbformat_minor": 2
}
